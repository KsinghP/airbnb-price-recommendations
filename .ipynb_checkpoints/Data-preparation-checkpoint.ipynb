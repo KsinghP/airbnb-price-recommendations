{
 "cells": [
  {
   "cell_type": "markdown",
   "metadata": {},
   "source": [
    "# Airbnb Price recommendations"
   ]
  },
  {
   "cell_type": "code",
   "execution_count": 139,
   "metadata": {},
   "outputs": [],
   "source": [
    "import pandas as pd\n",
    "import numpy as np\n",
    "import matplotlib.pyplot as plt\n",
    "from sklearn.model_selection import train_test_split"
   ]
  },
  {
   "cell_type": "markdown",
   "metadata": {},
   "source": [
    "## Data preparation\n",
    "\n",
    "1. Remove all listings without a review\n",
    "2. Remove all listings where price is > $500 or 0\n",
    "3. Handle missing values in the data\n",
    "4. Create train/test csv files"
   ]
  },
  {
   "cell_type": "code",
   "execution_count": 140,
   "metadata": {},
   "outputs": [
    {
     "data": {
      "text/html": [
       "<div>\n",
       "<style scoped>\n",
       "    .dataframe tbody tr th:only-of-type {\n",
       "        vertical-align: middle;\n",
       "    }\n",
       "\n",
       "    .dataframe tbody tr th {\n",
       "        vertical-align: top;\n",
       "    }\n",
       "\n",
       "    .dataframe thead th {\n",
       "        text-align: right;\n",
       "    }\n",
       "</style>\n",
       "<table border=\"1\" class=\"dataframe\">\n",
       "  <thead>\n",
       "    <tr style=\"text-align: right;\">\n",
       "      <th></th>\n",
       "      <th>id</th>\n",
       "      <th>hos2_is_superhos2</th>\n",
       "      <th>host_listings_count</th>\n",
       "      <th>neighbourhood_cleansed</th>\n",
       "      <th>neighbourhood_group_cleansed</th>\n",
       "      <th>city</th>\n",
       "      <th>zipcode</th>\n",
       "      <th>property_type</th>\n",
       "      <th>room_type</th>\n",
       "      <th>accommodates</th>\n",
       "      <th>...</th>\n",
       "      <th>maximum_nights_avg_ntm</th>\n",
       "      <th>number_of_reviews</th>\n",
       "      <th>number_of_reviews_ltm</th>\n",
       "      <th>review_scores_rating</th>\n",
       "      <th>review_scores_accuracy</th>\n",
       "      <th>review_scores_cleanliness</th>\n",
       "      <th>review_scores_checkin</th>\n",
       "      <th>review_scores_communication</th>\n",
       "      <th>review_scores_location</th>\n",
       "      <th>review_scores_value</th>\n",
       "    </tr>\n",
       "  </thead>\n",
       "  <tbody>\n",
       "    <tr>\n",
       "      <td>0</td>\n",
       "      <td>2595</td>\n",
       "      <td>1.0</td>\n",
       "      <td>6.0</td>\n",
       "      <td>Midtown</td>\n",
       "      <td>Manhattan</td>\n",
       "      <td>New York</td>\n",
       "      <td>10018</td>\n",
       "      <td>Apartment</td>\n",
       "      <td>Entire home/apt</td>\n",
       "      <td>1</td>\n",
       "      <td>...</td>\n",
       "      <td>1125.0</td>\n",
       "      <td>48</td>\n",
       "      <td>7</td>\n",
       "      <td>94.0</td>\n",
       "      <td>9.0</td>\n",
       "      <td>9.0</td>\n",
       "      <td>10.0</td>\n",
       "      <td>10.0</td>\n",
       "      <td>10.0</td>\n",
       "      <td>9.0</td>\n",
       "    </tr>\n",
       "    <tr>\n",
       "      <td>1</td>\n",
       "      <td>3831</td>\n",
       "      <td>1.0</td>\n",
       "      <td>1.0</td>\n",
       "      <td>Clinton Hill</td>\n",
       "      <td>Brooklyn</td>\n",
       "      <td>Brooklyn</td>\n",
       "      <td>11238</td>\n",
       "      <td>Guest suite</td>\n",
       "      <td>Entire home/apt</td>\n",
       "      <td>3</td>\n",
       "      <td>...</td>\n",
       "      <td>730.0</td>\n",
       "      <td>295</td>\n",
       "      <td>75</td>\n",
       "      <td>90.0</td>\n",
       "      <td>9.0</td>\n",
       "      <td>9.0</td>\n",
       "      <td>10.0</td>\n",
       "      <td>9.0</td>\n",
       "      <td>10.0</td>\n",
       "      <td>9.0</td>\n",
       "    </tr>\n",
       "    <tr>\n",
       "      <td>2</td>\n",
       "      <td>5099</td>\n",
       "      <td>1.0</td>\n",
       "      <td>1.0</td>\n",
       "      <td>Murray Hill</td>\n",
       "      <td>Manhattan</td>\n",
       "      <td>New York</td>\n",
       "      <td>10016</td>\n",
       "      <td>Apartment</td>\n",
       "      <td>Entire home/apt</td>\n",
       "      <td>2</td>\n",
       "      <td>...</td>\n",
       "      <td>21.0</td>\n",
       "      <td>78</td>\n",
       "      <td>8</td>\n",
       "      <td>90.0</td>\n",
       "      <td>10.0</td>\n",
       "      <td>9.0</td>\n",
       "      <td>10.0</td>\n",
       "      <td>10.0</td>\n",
       "      <td>10.0</td>\n",
       "      <td>9.0</td>\n",
       "    </tr>\n",
       "    <tr>\n",
       "      <td>3</td>\n",
       "      <td>5121</td>\n",
       "      <td>1.0</td>\n",
       "      <td>1.0</td>\n",
       "      <td>Bedford-Stuyvesant</td>\n",
       "      <td>Brooklyn</td>\n",
       "      <td>Brooklyn</td>\n",
       "      <td>11216</td>\n",
       "      <td>Apartment</td>\n",
       "      <td>Private room</td>\n",
       "      <td>2</td>\n",
       "      <td>...</td>\n",
       "      <td>730.0</td>\n",
       "      <td>49</td>\n",
       "      <td>0</td>\n",
       "      <td>90.0</td>\n",
       "      <td>8.0</td>\n",
       "      <td>8.0</td>\n",
       "      <td>10.0</td>\n",
       "      <td>10.0</td>\n",
       "      <td>9.0</td>\n",
       "      <td>9.0</td>\n",
       "    </tr>\n",
       "    <tr>\n",
       "      <td>4</td>\n",
       "      <td>5178</td>\n",
       "      <td>1.0</td>\n",
       "      <td>1.0</td>\n",
       "      <td>Hell's Kitchen</td>\n",
       "      <td>Manhattan</td>\n",
       "      <td>New York</td>\n",
       "      <td>10019</td>\n",
       "      <td>Apartment</td>\n",
       "      <td>Private room</td>\n",
       "      <td>2</td>\n",
       "      <td>...</td>\n",
       "      <td>14.0</td>\n",
       "      <td>454</td>\n",
       "      <td>47</td>\n",
       "      <td>84.0</td>\n",
       "      <td>9.0</td>\n",
       "      <td>7.0</td>\n",
       "      <td>9.0</td>\n",
       "      <td>9.0</td>\n",
       "      <td>10.0</td>\n",
       "      <td>8.0</td>\n",
       "    </tr>\n",
       "  </tbody>\n",
       "</table>\n",
       "<p>5 rows × 38 columns</p>\n",
       "</div>"
      ],
      "text/plain": [
       "     id  hos2_is_superhos2  host_listings_count neighbourhood_cleansed  \\\n",
       "0  2595                1.0                  6.0                Midtown   \n",
       "1  3831                1.0                  1.0           Clinton Hill   \n",
       "2  5099                1.0                  1.0            Murray Hill   \n",
       "3  5121                1.0                  1.0     Bedford-Stuyvesant   \n",
       "4  5178                1.0                  1.0         Hell's Kitchen   \n",
       "\n",
       "  neighbourhood_group_cleansed      city zipcode property_type  \\\n",
       "0                    Manhattan  New York   10018     Apartment   \n",
       "1                     Brooklyn  Brooklyn   11238   Guest suite   \n",
       "2                    Manhattan  New York   10016     Apartment   \n",
       "3                     Brooklyn  Brooklyn   11216     Apartment   \n",
       "4                    Manhattan  New York   10019     Apartment   \n",
       "\n",
       "         room_type  accommodates  ...  maximum_nights_avg_ntm  \\\n",
       "0  Entire home/apt             1  ...                  1125.0   \n",
       "1  Entire home/apt             3  ...                   730.0   \n",
       "2  Entire home/apt             2  ...                    21.0   \n",
       "3     Private room             2  ...                   730.0   \n",
       "4     Private room             2  ...                    14.0   \n",
       "\n",
       "   number_of_reviews  number_of_reviews_ltm review_scores_rating  \\\n",
       "0                 48                      7                 94.0   \n",
       "1                295                     75                 90.0   \n",
       "2                 78                      8                 90.0   \n",
       "3                 49                      0                 90.0   \n",
       "4                454                     47                 84.0   \n",
       "\n",
       "  review_scores_accuracy  review_scores_cleanliness review_scores_checkin  \\\n",
       "0                    9.0                        9.0                  10.0   \n",
       "1                    9.0                        9.0                  10.0   \n",
       "2                   10.0                        9.0                  10.0   \n",
       "3                    8.0                        8.0                  10.0   \n",
       "4                    9.0                        7.0                   9.0   \n",
       "\n",
       "  review_scores_communication review_scores_location  review_scores_value  \n",
       "0                        10.0                   10.0                  9.0  \n",
       "1                         9.0                   10.0                  9.0  \n",
       "2                        10.0                   10.0                  9.0  \n",
       "3                        10.0                    9.0                  9.0  \n",
       "4                         9.0                   10.0                  8.0  \n",
       "\n",
       "[5 rows x 38 columns]"
      ]
     },
     "execution_count": 140,
     "metadata": {},
     "output_type": "execute_result"
    }
   ],
   "source": [
    "# Load data from the pre-cleaned listings-cleaned.csv file\n",
    "airbnb = pd.read_csv(\"Data/listings-cleaned.csv\")\n",
    "airbnb.head()"
   ]
  },
  {
   "cell_type": "code",
   "execution_count": 141,
   "metadata": {},
   "outputs": [
    {
     "data": {
      "text/plain": [
       "50599"
      ]
     },
     "execution_count": 141,
     "metadata": {},
     "output_type": "execute_result"
    }
   ],
   "source": [
    "# total number listings\n",
    "airbnb['id'].count()"
   ]
  },
  {
   "cell_type": "code",
   "execution_count": 167,
   "metadata": {},
   "outputs": [
    {
     "data": {
      "text/plain": [
       "id                                int64\n",
       "hos2_is_superhos2               float64\n",
       "host_listings_count             float64\n",
       "neighbourhood_cleansed           object\n",
       "neighbourhood_group_cleansed     object\n",
       "city                             object\n",
       "zipcode                          object\n",
       "property_type                    object\n",
       "room_type                        object\n",
       "accommodates                      int64\n",
       "bathrooms                       float64\n",
       "bedrooms                        float64\n",
       "beds                            float64\n",
       "bed_type                         object\n",
       "amenities                        object\n",
       "price                           float64\n",
       "security_deposit                 object\n",
       "cleaning_fee                     object\n",
       "guests_included                   int64\n",
       "extra_people                     object\n",
       "minimum_nights                    int64\n",
       "maximum_nights                    int64\n",
       "minimum_minimum_nights            int64\n",
       "maximum_minimum_nights            int64\n",
       "minimum_maximum_nights            int64\n",
       "maximum_maximum_nights            int64\n",
       "minimum_nights_avg_ntm          float64\n",
       "maximum_nights_avg_ntm          float64\n",
       "number_of_reviews                 int64\n",
       "number_of_reviews_ltm           float64\n",
       "review_scores_rating            float64\n",
       "review_scores_accuracy          float64\n",
       "review_scores_cleanliness       float64\n",
       "review_scores_checkin           float64\n",
       "review_scores_communication     float64\n",
       "review_scores_location          float64\n",
       "review_scores_value             float64\n",
       "dtype: object"
      ]
     },
     "execution_count": 167,
     "metadata": {},
     "output_type": "execute_result"
    }
   ],
   "source": [
    "# check data types\n",
    "airbnb.dtypes"
   ]
  },
  {
   "cell_type": "markdown",
   "metadata": {},
   "source": [
    "### Remove all listings without a review in a last 12 months (number_of_reviews_ltm)"
   ]
  },
  {
   "cell_type": "code",
   "execution_count": 142,
   "metadata": {},
   "outputs": [
    {
     "data": {
      "text/plain": [
       "50599"
      ]
     },
     "execution_count": 142,
     "metadata": {},
     "output_type": "execute_result"
    }
   ],
   "source": [
    "# check that number_of_reviews_ltm column matches\n",
    "airbnb['number_of_reviews_ltm'].count()"
   ]
  },
  {
   "cell_type": "code",
   "execution_count": 143,
   "metadata": {},
   "outputs": [
    {
     "data": {
      "text/plain": [
       "29839"
      ]
     },
     "execution_count": 143,
     "metadata": {},
     "output_type": "execute_result"
    }
   ],
   "source": [
    "# replace 0's with NaN, drop all NaNs\n",
    "airbnb['number_of_reviews_ltm'] = airbnb['number_of_reviews_ltm'].replace(0, pd.np.nan)\n",
    "airbnb = airbnb.dropna(axis=0, how='any', subset=['number_of_reviews_ltm'])\n",
    "\n",
    "# remaining number of rows\n",
    "airbnb['id'].count()"
   ]
  },
  {
   "cell_type": "markdown",
   "metadata": {},
   "source": [
    "### Remove listings with price = 0 or > $500"
   ]
  },
  {
   "cell_type": "code",
   "execution_count": 144,
   "metadata": {},
   "outputs": [
    {
     "data": {
      "text/plain": [
       "0        225.0\n",
       "1         89.0\n",
       "2        200.0\n",
       "4         79.0\n",
       "6        150.0\n",
       "         ...  \n",
       "50473    100.0\n",
       "50500    120.0\n",
       "50567    150.0\n",
       "50577     50.0\n",
       "50580     60.0\n",
       "Name: price, Length: 29839, dtype: float64"
      ]
     },
     "execution_count": 144,
     "metadata": {},
     "output_type": "execute_result"
    }
   ],
   "source": [
    "# remove $ sign and commas from price\n",
    "airbnb['price'] = airbnb['price'].str.replace('$','').str.replace(',','').astype('float')\n",
    "airbnb.price"
   ]
  },
  {
   "cell_type": "code",
   "execution_count": 145,
   "metadata": {},
   "outputs": [
    {
     "data": {
      "text/plain": [
       "10000.0"
      ]
     },
     "execution_count": 145,
     "metadata": {},
     "output_type": "execute_result"
    }
   ],
   "source": [
    "# check max price\n",
    "max(airbnb.price)"
   ]
  },
  {
   "cell_type": "code",
   "execution_count": 146,
   "metadata": {},
   "outputs": [
    {
     "data": {
      "text/plain": [
       "29826"
      ]
     },
     "execution_count": 146,
     "metadata": {},
     "output_type": "execute_result"
    }
   ],
   "source": [
    "# remove prices = 0\n",
    "# replace 0's with NaN, drop all NaNs\n",
    "airbnb['price'] = airbnb['price'].replace(0, pd.np.nan)\n",
    "airbnb = airbnb.dropna(axis=0, how='any', subset=['price'])\n",
    "\n",
    "# remaining number of rows\n",
    "airbnb['price'].count()"
   ]
  },
  {
   "cell_type": "code",
   "execution_count": 147,
   "metadata": {},
   "outputs": [
    {
     "data": {
      "text/plain": [
       "500.0"
      ]
     },
     "execution_count": 147,
     "metadata": {},
     "output_type": "execute_result"
    }
   ],
   "source": [
    "airbnb = airbnb[airbnb['price'] <= 500]\n",
    "\n",
    "# max price\n",
    "max(airbnb.price)"
   ]
  },
  {
   "cell_type": "code",
   "execution_count": 148,
   "metadata": {},
   "outputs": [
    {
     "data": {
      "text/plain": [
       "29351"
      ]
     },
     "execution_count": 148,
     "metadata": {},
     "output_type": "execute_result"
    }
   ],
   "source": [
    "# remaining number of rows\n",
    "airbnb['price'].count()"
   ]
  },
  {
   "cell_type": "code",
   "execution_count": null,
   "metadata": {},
   "outputs": [],
   "source": []
  },
  {
   "cell_type": "markdown",
   "metadata": {},
   "source": [
    "### Handle missing values"
   ]
  },
  {
   "cell_type": "code",
   "execution_count": 150,
   "metadata": {},
   "outputs": [
    {
     "data": {
      "text/plain": [
       "id                                  0\n",
       "hos2_is_superhos2                 360\n",
       "host_listings_count               360\n",
       "neighbourhood_cleansed              0\n",
       "neighbourhood_group_cleansed        0\n",
       "city                               90\n",
       "zipcode                           219\n",
       "property_type                       0\n",
       "room_type                           0\n",
       "accommodates                        0\n",
       "bathrooms                          17\n",
       "bedrooms                           27\n",
       "beds                               28\n",
       "bed_type                            0\n",
       "amenities                           0\n",
       "square_feet                     29095\n",
       "price                               0\n",
       "security_deposit                 7088\n",
       "cleaning_fee                     3213\n",
       "guests_included                     0\n",
       "extra_people                        0\n",
       "minimum_nights                      0\n",
       "maximum_nights                      0\n",
       "minimum_minimum_nights              0\n",
       "maximum_minimum_nights              0\n",
       "minimum_maximum_nights              0\n",
       "maximum_maximum_nights              0\n",
       "minimum_nights_avg_ntm              0\n",
       "maximum_nights_avg_ntm              0\n",
       "number_of_reviews                   0\n",
       "number_of_reviews_ltm               0\n",
       "review_scores_rating              365\n",
       "review_scores_accuracy            369\n",
       "review_scores_cleanliness         369\n",
       "review_scores_checkin             369\n",
       "review_scores_communication       369\n",
       "review_scores_location            369\n",
       "review_scores_value               369\n",
       "dtype: int64"
      ]
     },
     "execution_count": 150,
     "metadata": {},
     "output_type": "execute_result"
    }
   ],
   "source": [
    "airbnb.isna().sum()"
   ]
  },
  {
   "cell_type": "code",
   "execution_count": 151,
   "metadata": {},
   "outputs": [],
   "source": [
    "# drop sqaure_feet colummn (mostly NaN values)\n",
    "airbnb = airbnb.drop('square_feet', axis=1)"
   ]
  },
  {
   "cell_type": "code",
   "execution_count": 152,
   "metadata": {},
   "outputs": [
    {
     "data": {
      "text/plain": [
       "['id',\n",
       " 'hos2_is_superhos2',\n",
       " 'host_listings_count',\n",
       " 'neighbourhood_cleansed',\n",
       " 'neighbourhood_group_cleansed',\n",
       " 'city',\n",
       " 'zipcode',\n",
       " 'property_type',\n",
       " 'room_type',\n",
       " 'accommodates',\n",
       " 'bathrooms',\n",
       " 'bedrooms',\n",
       " 'beds',\n",
       " 'bed_type',\n",
       " 'amenities',\n",
       " 'price',\n",
       " 'guests_included',\n",
       " 'extra_people',\n",
       " 'minimum_nights',\n",
       " 'maximum_nights',\n",
       " 'minimum_minimum_nights',\n",
       " 'maximum_minimum_nights',\n",
       " 'minimum_maximum_nights',\n",
       " 'maximum_maximum_nights',\n",
       " 'minimum_nights_avg_ntm',\n",
       " 'maximum_nights_avg_ntm',\n",
       " 'number_of_reviews',\n",
       " 'number_of_reviews_ltm',\n",
       " 'review_scores_rating',\n",
       " 'review_scores_accuracy',\n",
       " 'review_scores_cleanliness',\n",
       " 'review_scores_checkin',\n",
       " 'review_scores_communication',\n",
       " 'review_scores_location',\n",
       " 'review_scores_value']"
      ]
     },
     "execution_count": 152,
     "metadata": {},
     "output_type": "execute_result"
    }
   ],
   "source": [
    "# get column names\n",
    "cols = airbnb.columns.tolist()\n",
    "\n",
    "# ignore security deposit and cleaning fee when dropping NaN values.\n",
    "cols.remove('security_deposit')\n",
    "cols.remove('cleaning_fee')\n",
    "cols"
   ]
  },
  {
   "cell_type": "code",
   "execution_count": 155,
   "metadata": {},
   "outputs": [
    {
     "data": {
      "text/plain": [
       "id                              28268\n",
       "hos2_is_superhos2               28268\n",
       "host_listings_count             28268\n",
       "neighbourhood_cleansed          28268\n",
       "neighbourhood_group_cleansed    28268\n",
       "city                            28268\n",
       "zipcode                         28268\n",
       "property_type                   28268\n",
       "room_type                       28268\n",
       "accommodates                    28268\n",
       "bathrooms                       28268\n",
       "bedrooms                        28268\n",
       "beds                            28268\n",
       "bed_type                        28268\n",
       "amenities                       28268\n",
       "price                           28268\n",
       "security_deposit                21550\n",
       "cleaning_fee                    25280\n",
       "guests_included                 28268\n",
       "extra_people                    28268\n",
       "minimum_nights                  28268\n",
       "maximum_nights                  28268\n",
       "minimum_minimum_nights          28268\n",
       "maximum_minimum_nights          28268\n",
       "minimum_maximum_nights          28268\n",
       "maximum_maximum_nights          28268\n",
       "minimum_nights_avg_ntm          28268\n",
       "maximum_nights_avg_ntm          28268\n",
       "number_of_reviews               28268\n",
       "number_of_reviews_ltm           28268\n",
       "review_scores_rating            28268\n",
       "review_scores_accuracy          28268\n",
       "review_scores_cleanliness       28268\n",
       "review_scores_checkin           28268\n",
       "review_scores_communication     28268\n",
       "review_scores_location          28268\n",
       "review_scores_value             28268\n",
       "dtype: int64"
      ]
     },
     "execution_count": 155,
     "metadata": {},
     "output_type": "execute_result"
    }
   ],
   "source": [
    "# drop all na values\n",
    "airbnb = airbnb.dropna(axis=0, how='any', subset=cols)\n",
    "airbnb.count()"
   ]
  },
  {
   "cell_type": "code",
   "execution_count": 156,
   "metadata": {},
   "outputs": [],
   "source": [
    "airbnb.to_csv('Data/data.csv', index = False)"
   ]
  },
  {
   "cell_type": "markdown",
   "metadata": {},
   "source": [
    "### Create train/test splits"
   ]
  },
  {
   "cell_type": "code",
   "execution_count": 1,
   "metadata": {},
   "outputs": [
    {
     "ename": "NameError",
     "evalue": "name 'airbnb' is not defined",
     "output_type": "error",
     "traceback": [
      "\u001b[1;31m---------------------------------------------------------------------------\u001b[0m",
      "\u001b[1;31mNameError\u001b[0m                                 Traceback (most recent call last)",
      "\u001b[1;32m<ipython-input-1-d880e18fb3ba>\u001b[0m in \u001b[0;36m<module>\u001b[1;34m\u001b[0m\n\u001b[1;32m----> 1\u001b[1;33m \u001b[0my\u001b[0m \u001b[1;33m=\u001b[0m \u001b[0mairbnb\u001b[0m\u001b[1;33m[\u001b[0m\u001b[1;34m'price'\u001b[0m\u001b[1;33m]\u001b[0m\u001b[1;33m\u001b[0m\u001b[1;33m\u001b[0m\u001b[0m\n\u001b[0m\u001b[0;32m      2\u001b[0m \u001b[0mX\u001b[0m \u001b[1;33m=\u001b[0m \u001b[0mairbnb\u001b[0m\u001b[1;33m.\u001b[0m\u001b[0mdrop\u001b[0m\u001b[1;33m(\u001b[0m\u001b[1;34m'price'\u001b[0m\u001b[1;33m,\u001b[0m \u001b[1;36m1\u001b[0m\u001b[1;33m)\u001b[0m\u001b[1;33m\u001b[0m\u001b[1;33m\u001b[0m\u001b[0m\n",
      "\u001b[1;31mNameError\u001b[0m: name 'airbnb' is not defined"
     ]
    }
   ],
   "source": [
    "y = airbnb['price']\n",
    "X = airbnb.drop('price', 1)"
   ]
  },
  {
   "cell_type": "code",
   "execution_count": 158,
   "metadata": {},
   "outputs": [
    {
     "name": "stdout",
     "output_type": "stream",
     "text": [
      "(19787, 36) (19787,)\n",
      "(8481, 36) (8481,)\n"
     ]
    }
   ],
   "source": [
    "# create train and test sets, seed = 123\n",
    "X_train, X_test, y_train, y_test = train_test_split(X, y, test_size=0.3, train_size = 0.7, random_state = 123)\n",
    "print(X_train.shape, y_train.shape)\n",
    "print(X_test.shape, y_test.shape)"
   ]
  },
  {
   "cell_type": "code",
   "execution_count": 159,
   "metadata": {},
   "outputs": [],
   "source": [
    "# export csv files for train and test\n",
    "train = pd.concat([y_train, X_train], axis=1)\n",
    "train.to_csv('Data/train.csv', index = False)\n",
    "\n",
    "test = pd.concat([y_test, X_test], axis=1)\n",
    "test.to_csv('Data/test.csv', index = False)"
   ]
  },
  {
   "cell_type": "code",
   "execution_count": null,
   "metadata": {},
   "outputs": [],
   "source": []
  }
 ],
 "metadata": {
  "kernelspec": {
   "display_name": "Python 3",
   "language": "python",
   "name": "python3"
  },
  "language_info": {
   "codemirror_mode": {
    "name": "ipython",
    "version": 3
   },
   "file_extension": ".py",
   "mimetype": "text/x-python",
   "name": "python",
   "nbconvert_exporter": "python",
   "pygments_lexer": "ipython3",
   "version": "3.7.4"
  }
 },
 "nbformat": 4,
 "nbformat_minor": 4
}
