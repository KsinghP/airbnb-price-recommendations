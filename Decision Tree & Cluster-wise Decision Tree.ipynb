{
 "cells": [
  {
   "cell_type": "code",
   "execution_count": 2,
   "metadata": {},
   "outputs": [],
   "source": [
    "library(plyr)\n",
    "library(ggplot2)\n",
    "library(rpart)"
   ]
  },
  {
   "cell_type": "code",
   "execution_count": 3,
   "metadata": {
    "scrolled": false
   },
   "outputs": [],
   "source": [
    "path = '~/Airbnb/'\n",
    "df <- read.csv(paste0(path, 'listings.csv'))"
   ]
  },
  {
   "cell_type": "code",
   "execution_count": 4,
   "metadata": {},
   "outputs": [
    {
     "data": {
      "text/html": [
       "<ol class=list-inline>\n",
       "\t<li>50599</li>\n",
       "\t<li>106</li>\n",
       "</ol>\n"
      ],
      "text/latex": [
       "\\begin{enumerate*}\n",
       "\\item 50599\n",
       "\\item 106\n",
       "\\end{enumerate*}\n"
      ],
      "text/markdown": [
       "1. 50599\n",
       "2. 106\n",
       "\n",
       "\n"
      ],
      "text/plain": [
       "[1] 50599   106"
      ]
     },
     "metadata": {},
     "output_type": "display_data"
    }
   ],
   "source": [
    "dim(df)"
   ]
  },
  {
   "cell_type": "code",
   "execution_count": 5,
   "metadata": {},
   "outputs": [
    {
     "data": {
      "text/html": [
       "<ol class=list-inline>\n",
       "\t<li>50599</li>\n",
       "\t<li>10</li>\n",
       "</ol>\n"
      ],
      "text/latex": [
       "\\begin{enumerate*}\n",
       "\\item 50599\n",
       "\\item 10\n",
       "\\end{enumerate*}\n"
      ],
      "text/markdown": [
       "1. 50599\n",
       "2. 10\n",
       "\n",
       "\n"
      ],
      "text/plain": [
       "[1] 50599    10"
      ]
     },
     "metadata": {},
     "output_type": "display_data"
    }
   ],
   "source": [
    "new_features <- read.csv(paste0(path, 'listings_ft.csv'))\n",
    "dim(new_features)"
   ]
  },
  {
   "cell_type": "code",
   "execution_count": 6,
   "metadata": {},
   "outputs": [
    {
     "data": {
      "text/html": [
       "<ol class=list-inline>\n",
       "\t<li>50599</li>\n",
       "\t<li>136</li>\n",
       "</ol>\n"
      ],
      "text/latex": [
       "\\begin{enumerate*}\n",
       "\\item 50599\n",
       "\\item 136\n",
       "\\end{enumerate*}\n"
      ],
      "text/markdown": [
       "1. 50599\n",
       "2. 136\n",
       "\n",
       "\n"
      ],
      "text/plain": [
       "[1] 50599   136"
      ]
     },
     "metadata": {},
     "output_type": "display_data"
    }
   ],
   "source": [
    "amenities <- read.csv(paste0(path, 'amenities_df.csv'))\n",
    "dim(amenities)"
   ]
  },
  {
   "cell_type": "code",
   "execution_count": 7,
   "metadata": {
    "scrolled": false
   },
   "outputs": [
    {
     "data": {
      "text/html": [
       "<ol class=list-inline>\n",
       "\t<li>50599</li>\n",
       "\t<li>247</li>\n",
       "</ol>\n"
      ],
      "text/latex": [
       "\\begin{enumerate*}\n",
       "\\item 50599\n",
       "\\item 247\n",
       "\\end{enumerate*}\n"
      ],
      "text/markdown": [
       "1. 50599\n",
       "2. 247\n",
       "\n",
       "\n"
      ],
      "text/plain": [
       "[1] 50599   247"
      ]
     },
     "metadata": {},
     "output_type": "display_data"
    }
   ],
   "source": [
    "df <- cbind(df, amenities[,-c(1:5)], new_features)\n",
    "dim(df)"
   ]
  },
  {
   "cell_type": "code",
   "execution_count": 8,
   "metadata": {},
   "outputs": [],
   "source": [
    "imp_amenities <- c('Wifi','Heating','Essentials','Kitchen','Smokedetector','Airconditioning',\n",
    "                   'Carbonmonoxidedetector','TV','Shampoo','Hairdryer','Laptopfriendlyworkspace',\n",
    "                   'Iron','Washer','Dryer','Dishesandsilverware','Lockonbedroomdoor','Stove',\n",
    "                   'Firstaidkit','Oven','Freestreetparking','Cookingbasics','Coffeemaker',\n",
    "                   'Internet','Elevator','Family.kidfriendly','CableTV','Selfcheck.in',\n",
    "                   'Extrapillowsandblankets','Privateentrance','Longtermstaysallowed',\n",
    "                   'Buzzer.wirelessintercom','translationmissing.en.hosting_amenity_50',\n",
    "                   'Dishwasher','Hostgreetsyou','translationmissing.en.hosting_amenity_49',\n",
    "                   'Petsallowed','Lockbox','Gym','Paidparkingoffpremises','X24.hourcheck.in',\n",
    "                   'Bathtub','Patioorbalcony','Gardenorbackyard','Petsliveonthisproperty')"
   ]
  },
  {
   "cell_type": "markdown",
   "metadata": {},
   "source": [
    "### Data Cleaning"
   ]
  },
  {
   "cell_type": "code",
   "execution_count": 9,
   "metadata": {},
   "outputs": [],
   "source": [
    "# Remove '$' from price\n",
    "df$price = suppressWarnings(sapply(df$price, FUN = function(x) as.integer(sub(\",\", \"\", sub(\".\", \"\", x)))))"
   ]
  },
  {
   "cell_type": "code",
   "execution_count": 10,
   "metadata": {
    "scrolled": true
   },
   "outputs": [],
   "source": [
    "# Eliminate outliers\n",
    "df <- df[df$number_of_reviews > 0,] # Number of Reviews > 0; 40379 samples\n",
    "df <- df[df$price <= 500, ]\n",
    "df <- df[df$price > 0, ]"
   ]
  },
  {
   "cell_type": "code",
   "execution_count": 11,
   "metadata": {},
   "outputs": [
    {
     "data": {
      "text/html": [
       "<ol class=list-inline>\n",
       "\t<li>39730</li>\n",
       "\t<li>247</li>\n",
       "</ol>\n"
      ],
      "text/latex": [
       "\\begin{enumerate*}\n",
       "\\item 39730\n",
       "\\item 247\n",
       "\\end{enumerate*}\n"
      ],
      "text/markdown": [
       "1. 39730\n",
       "2. 247\n",
       "\n",
       "\n"
      ],
      "text/plain": [
       "[1] 39730   247"
      ]
     },
     "metadata": {},
     "output_type": "display_data"
    }
   ],
   "source": [
    "dim(df) # 39730 rows"
   ]
  },
  {
   "cell_type": "code",
   "execution_count": 12,
   "metadata": {},
   "outputs": [],
   "source": [
    "# Remove '%' from host_response_rate\n",
    "df$host_response_rate <- sapply(df$host_response_rate, FUN = function(x) as.integer(sub('%', '', '85%')))"
   ]
  },
  {
   "cell_type": "code",
   "execution_count": 13,
   "metadata": {},
   "outputs": [],
   "source": [
    "df$host_since_day = as.numeric(as.Date('2019-12-04', format=\"%Y-%m-%d\")-as.Date(df$host_since, format=\"%Y-%m-%d\"))\n",
    "df$first_review_day = as.numeric(as.Date('2019-12-04', format=\"%Y-%m-%d\")-as.Date(df$first_review, format=\"%Y-%m-%d\"))\n",
    "df$last_review_day = as.numeric(as.Date('2019-12-04', format=\"%Y-%m-%d\")-as.Date(df$last_review, format=\"%Y-%m-%d\"))"
   ]
  },
  {
   "cell_type": "code",
   "execution_count": 14,
   "metadata": {},
   "outputs": [],
   "source": [
    "# Remove '$' from extra people\n",
    "df$extra_people = suppressWarnings(sapply(df$extra_people, FUN = function(x) as.integer(sub(\",\", \"\", sub(\".\", \"\", x)))))"
   ]
  },
  {
   "cell_type": "markdown",
   "metadata": {},
   "source": [
    "### Train-Test Split"
   ]
  },
  {
   "cell_type": "code",
   "execution_count": 15,
   "metadata": {},
   "outputs": [
    {
     "name": "stdout",
     "output_type": "stream",
     "text": [
      "[1] 19787   250\n",
      "[1] 8481  250\n"
     ]
    }
   ],
   "source": [
    "# Load train test ids\n",
    "train.id <- read.csv(paste0(path, 'train.csv'))\n",
    "train.id <- train.id$id\n",
    "test.id <- read.csv(paste0(path, 'test.csv'))\n",
    "test.id <- test.id$id\n",
    "\n",
    "# create train set and test set\n",
    "train.set <- df[df$id %in% train.id,]\n",
    "test.set <- df[df$id %in% test.id,]\n",
    "\n",
    "#print dimension\n",
    "print(dim(train.set))\n",
    "print(dim(test.set))"
   ]
  },
  {
   "cell_type": "markdown",
   "metadata": {},
   "source": [
    "### Functions"
   ]
  },
  {
   "cell_type": "code",
   "execution_count": 16,
   "metadata": {},
   "outputs": [],
   "source": [
    "r2 <- function(pred.y, true.y){\n",
    "    sst = sum((true.y - mean(true.y))^2)\n",
    "    sse = sum((pred.y - true.y)^2)\n",
    "    #print(sst)\n",
    "    #print(sse)\n",
    "    return(1-sse/sst)\n",
    "    }"
   ]
  },
  {
   "cell_type": "markdown",
   "metadata": {},
   "source": [
    "### Model Building"
   ]
  },
  {
   "cell_type": "code",
   "execution_count": 232,
   "metadata": {},
   "outputs": [],
   "source": [
    "features = c('price', 'neighbourhood', 'host_since_day', 'host_location',\n",
    "            'host_response_time', 'host_is_superhost','host_neighbourhood',\n",
    "            'host_listings_count', \"host_total_listings_count\",\n",
    "            'host_has_profile_pic','host_identity_verified', 'street',\n",
    "            'neighbourhood_cleansed', 'neighbourhood_group_cleansed',\n",
    "            'city', 'zipcode', 'property_type', 'room_type', 'accommodates',\n",
    "            'bathrooms', 'bedrooms','beds', 'bed_type', 'square_feet',\n",
    "            'guests_included', 'extra_people', 'number_of_reviews',\n",
    "            'number_of_reviews_ltm', 'review_scores_rating', 'instant_bookable',\n",
    "            'cancellation_policy', 'require_guest_profile_picture',\n",
    "            'require_guest_phone_verification', 'calculated_host_listings_count',\n",
    "            'calculated_host_listings_count_entire_homes', 'calculated_host_listings_count_private_rooms',\n",
    "            'calculated_host_listings_count_shared_rooms', 'reviews_per_month',\n",
    "            'first_review_day', 'last_review_day'\n",
    "            )\n",
    "features <- c(features, imp_amenities)\n",
    "train.subset <- train.set[,match(features, colnames(train.set))]\n",
    "test.subset <- test.set[,match(features, colnames(test.set))]"
   ]
  },
  {
   "cell_type": "code",
   "execution_count": 18,
   "metadata": {},
   "outputs": [
    {
     "data": {
      "text/html": [
       "94"
      ],
      "text/latex": [
       "94"
      ],
      "text/markdown": [
       "94"
      ],
      "text/plain": [
       "[1] 94"
      ]
     },
     "metadata": {},
     "output_type": "display_data"
    }
   ],
   "source": [
    "length(features)"
   ]
  },
  {
   "cell_type": "markdown",
   "metadata": {},
   "source": [
    "#### Spliting method being Gini index"
   ]
  },
  {
   "cell_type": "code",
   "execution_count": 233,
   "metadata": {},
   "outputs": [
    {
     "name": "stdout",
     "output_type": "stream",
     "text": [
      "[1] \"Train.R2: 0.661967711559177\" \"CV.R2: 0.603637446518769\"   \n"
     ]
    }
   ],
   "source": [
    "tree.model <- rpart(price~., data = train.subset, method = 'anova',\n",
    "                   minsplit = 30, cp = 0, xval = 15, parms=list(split=\"gini\"))\n",
    "cptable <- tree.model$cptable\n",
    "max.error.allowed <- sum(cptable[which.min(cptable[,4]),c(4, 5)])\n",
    "acceptable.cp <- cptable[cptable[,4] < max.error.allowed,]\n",
    "best.cp <- acceptable.cp[1,1]\n",
    "cv.r2 <- 1-acceptable.cp[1,c(3,4)]\n",
    "print(paste0(c('Train.R2: ', 'CV.R2: '), cv.r2))"
   ]
  },
  {
   "cell_type": "markdown",
   "metadata": {},
   "source": [
    "#### Spliting method being information"
   ]
  },
  {
   "cell_type": "code",
   "execution_count": 219,
   "metadata": {
    "scrolled": true
   },
   "outputs": [
    {
     "name": "stdout",
     "output_type": "stream",
     "text": [
      "[1] \"Train.R2: 0.653623430894214\" \"CV.R2: 0.599148464636983\"   \n"
     ]
    }
   ],
   "source": [
    "tree.model <- rpart(price~., data = train.subset, method = 'anova',\n",
    "                   minsplit = 30, cp = 0, xval = 10, parms=list(split=\"information\"))\n",
    "cptable <- tree.model$cptable\n",
    "max.error.allowed <- sum(cptable[which.min(cptable[,4]),c(4, 5)])\n",
    "acceptable.cp <- cptable[cptable[,4] < max.error.allowed,]\n",
    "best.cp <- acceptable.cp[1,1]\n",
    "cv.r2 <- 1-acceptable.cp[1,c(3,4)]\n",
    "print(paste0(c('Train.R2: ', 'CV.R2: '), cv.r2))"
   ]
  },
  {
   "cell_type": "markdown",
   "metadata": {},
   "source": [
    "#### Test Evaluation"
   ]
  },
  {
   "cell_type": "code",
   "execution_count": 235,
   "metadata": {
    "scrolled": true
   },
   "outputs": [
    {
     "data": {
      "text/html": [
       "0.661967711559173"
      ],
      "text/latex": [
       "0.661967711559173"
      ],
      "text/markdown": [
       "0.661967711559173"
      ],
      "text/plain": [
       "[1] 0.6619677"
      ]
     },
     "metadata": {},
     "output_type": "display_data"
    },
    {
     "data": {
      "text/html": [
       "0.592320827474318"
      ],
      "text/latex": [
       "0.592320827474318"
      ],
      "text/markdown": [
       "0.592320827474318"
      ],
      "text/plain": [
       "[1] 0.5923208"
      ]
     },
     "metadata": {},
     "output_type": "display_data"
    }
   ],
   "source": [
    "# Test\n",
    "tree.model <- rpart(price~., data = train.subset, method = 'anova',\n",
    "                   minsplit = 30, cp = best.cp , xval = 10,\n",
    "                   parms=list(split=\"gini\"))\n",
    "y.pred <- predict(tree.model)\n",
    "r2(y.pred, as.numeric(train.set$price))\n",
    "y.pred <- predict(tree.model, newdata = test.subset)\n",
    "r2(y.pred, as.numeric(test.set$price))"
   ]
  },
  {
   "cell_type": "code",
   "execution_count": 236,
   "metadata": {},
   "outputs": [
    {
     "data": {
      "text/html": [
       "<dl class=dl-horizontal>\n",
       "\t<dt>room_type</dt>\n",
       "\t\t<dd>49764012.3411167</dd>\n",
       "\t<dt>calculated_host_listings_count_private_rooms</dt>\n",
       "\t\t<dd>44158378.6601421</dd>\n",
       "\t<dt>calculated_host_listings_count_entire_homes</dt>\n",
       "\t\t<dd>42673401.1691424</dd>\n",
       "\t<dt>accommodates</dt>\n",
       "\t\t<dd>33196617.1828407</dd>\n",
       "\t<dt>beds</dt>\n",
       "\t\t<dd>22946546.2436761</dd>\n",
       "\t<dt>zipcode</dt>\n",
       "\t\t<dd>22199163.8853387</dd>\n",
       "\t<dt>neighbourhood_cleansed</dt>\n",
       "\t\t<dd>19418524.4023184</dd>\n",
       "\t<dt>guests_included</dt>\n",
       "\t\t<dd>18637419.7179316</dd>\n",
       "\t<dt>host_neighbourhood</dt>\n",
       "\t\t<dd>17986960.3226281</dd>\n",
       "\t<dt>bedrooms</dt>\n",
       "\t\t<dd>16572594.6975509</dd>\n",
       "\t<dt>neighbourhood</dt>\n",
       "\t\t<dd>14659727.4855618</dd>\n",
       "\t<dt>street</dt>\n",
       "\t\t<dd>10015588.546527</dd>\n",
       "\t<dt>city</dt>\n",
       "\t\t<dd>7477470.61535705</dd>\n",
       "\t<dt>bathrooms</dt>\n",
       "\t\t<dd>5595490.14826911</dd>\n",
       "\t<dt>host_location</dt>\n",
       "\t\t<dd>3527260.07512564</dd>\n",
       "\t<dt>neighbourhood_group_cleansed</dt>\n",
       "\t\t<dd>2490957.72898702</dd>\n",
       "\t<dt>property_type</dt>\n",
       "\t\t<dd>1293580.80082081</dd>\n",
       "\t<dt>host_listings_count</dt>\n",
       "\t\t<dd>300849.441046246</dd>\n",
       "\t<dt>Coffeemaker</dt>\n",
       "\t\t<dd>207804.779196952</dd>\n",
       "\t<dt>Family.kidfriendly</dt>\n",
       "\t\t<dd>204149.857533433</dd>\n",
       "\t<dt>Gym</dt>\n",
       "\t\t<dd>157235.748385837</dd>\n",
       "\t<dt>host_since_day</dt>\n",
       "\t\t<dd>85398.9598919169</dd>\n",
       "\t<dt>calculated_host_listings_count</dt>\n",
       "\t\t<dd>71352.9692061093</dd>\n",
       "\t<dt>Washer</dt>\n",
       "\t\t<dd>69201.0679275473</dd>\n",
       "\t<dt>extra_people</dt>\n",
       "\t\t<dd>58799.8889030993</dd>\n",
       "\t<dt>host_total_listings_count</dt>\n",
       "\t\t<dd>38527.7860040765</dd>\n",
       "\t<dt>first_review_day</dt>\n",
       "\t\t<dd>28153.7038277259</dd>\n",
       "\t<dt>reviews_per_month</dt>\n",
       "\t\t<dd>18793.6934010554</dd>\n",
       "\t<dt>calculated_host_listings_count_shared_rooms</dt>\n",
       "\t\t<dd>16502.8733290415</dd>\n",
       "</dl>\n"
      ],
      "text/latex": [
       "\\begin{description*}\n",
       "\\item[room\\textbackslash{}\\_type] 49764012.3411167\n",
       "\\item[calculated\\textbackslash{}\\_host\\textbackslash{}\\_listings\\textbackslash{}\\_count\\textbackslash{}\\_private\\textbackslash{}\\_rooms] 44158378.6601421\n",
       "\\item[calculated\\textbackslash{}\\_host\\textbackslash{}\\_listings\\textbackslash{}\\_count\\textbackslash{}\\_entire\\textbackslash{}\\_homes] 42673401.1691424\n",
       "\\item[accommodates] 33196617.1828407\n",
       "\\item[beds] 22946546.2436761\n",
       "\\item[zipcode] 22199163.8853387\n",
       "\\item[neighbourhood\\textbackslash{}\\_cleansed] 19418524.4023184\n",
       "\\item[guests\\textbackslash{}\\_included] 18637419.7179316\n",
       "\\item[host\\textbackslash{}\\_neighbourhood] 17986960.3226281\n",
       "\\item[bedrooms] 16572594.6975509\n",
       "\\item[neighbourhood] 14659727.4855618\n",
       "\\item[street] 10015588.546527\n",
       "\\item[city] 7477470.61535705\n",
       "\\item[bathrooms] 5595490.14826911\n",
       "\\item[host\\textbackslash{}\\_location] 3527260.07512564\n",
       "\\item[neighbourhood\\textbackslash{}\\_group\\textbackslash{}\\_cleansed] 2490957.72898702\n",
       "\\item[property\\textbackslash{}\\_type] 1293580.80082081\n",
       "\\item[host\\textbackslash{}\\_listings\\textbackslash{}\\_count] 300849.441046246\n",
       "\\item[Coffeemaker] 207804.779196952\n",
       "\\item[Family.kidfriendly] 204149.857533433\n",
       "\\item[Gym] 157235.748385837\n",
       "\\item[host\\textbackslash{}\\_since\\textbackslash{}\\_day] 85398.9598919169\n",
       "\\item[calculated\\textbackslash{}\\_host\\textbackslash{}\\_listings\\textbackslash{}\\_count] 71352.9692061093\n",
       "\\item[Washer] 69201.0679275473\n",
       "\\item[extra\\textbackslash{}\\_people] 58799.8889030993\n",
       "\\item[host\\textbackslash{}\\_total\\textbackslash{}\\_listings\\textbackslash{}\\_count] 38527.7860040765\n",
       "\\item[first\\textbackslash{}\\_review\\textbackslash{}\\_day] 28153.7038277259\n",
       "\\item[reviews\\textbackslash{}\\_per\\textbackslash{}\\_month] 18793.6934010554\n",
       "\\item[calculated\\textbackslash{}\\_host\\textbackslash{}\\_listings\\textbackslash{}\\_count\\textbackslash{}\\_shared\\textbackslash{}\\_rooms] 16502.8733290415\n",
       "\\end{description*}\n"
      ],
      "text/markdown": [
       "room_type\n",
       ":   49764012.3411167calculated_host_listings_count_private_rooms\n",
       ":   44158378.6601421calculated_host_listings_count_entire_homes\n",
       ":   42673401.1691424accommodates\n",
       ":   33196617.1828407beds\n",
       ":   22946546.2436761zipcode\n",
       ":   22199163.8853387neighbourhood_cleansed\n",
       ":   19418524.4023184guests_included\n",
       ":   18637419.7179316host_neighbourhood\n",
       ":   17986960.3226281bedrooms\n",
       ":   16572594.6975509neighbourhood\n",
       ":   14659727.4855618street\n",
       ":   10015588.546527city\n",
       ":   7477470.61535705bathrooms\n",
       ":   5595490.14826911host_location\n",
       ":   3527260.07512564neighbourhood_group_cleansed\n",
       ":   2490957.72898702property_type\n",
       ":   1293580.80082081host_listings_count\n",
       ":   300849.441046246Coffeemaker\n",
       ":   207804.779196952Family.kidfriendly\n",
       ":   204149.857533433Gym\n",
       ":   157235.748385837host_since_day\n",
       ":   85398.9598919169calculated_host_listings_count\n",
       ":   71352.9692061093Washer\n",
       ":   69201.0679275473extra_people\n",
       ":   58799.8889030993host_total_listings_count\n",
       ":   38527.7860040765first_review_day\n",
       ":   28153.7038277259reviews_per_month\n",
       ":   18793.6934010554calculated_host_listings_count_shared_rooms\n",
       ":   16502.8733290415\n",
       "\n"
      ],
      "text/plain": [
       "                                   room_type \n",
       "                                 49764012.34 \n",
       "calculated_host_listings_count_private_rooms \n",
       "                                 44158378.66 \n",
       " calculated_host_listings_count_entire_homes \n",
       "                                 42673401.17 \n",
       "                                accommodates \n",
       "                                 33196617.18 \n",
       "                                        beds \n",
       "                                 22946546.24 \n",
       "                                     zipcode \n",
       "                                 22199163.89 \n",
       "                      neighbourhood_cleansed \n",
       "                                 19418524.40 \n",
       "                             guests_included \n",
       "                                 18637419.72 \n",
       "                          host_neighbourhood \n",
       "                                 17986960.32 \n",
       "                                    bedrooms \n",
       "                                 16572594.70 \n",
       "                               neighbourhood \n",
       "                                 14659727.49 \n",
       "                                      street \n",
       "                                 10015588.55 \n",
       "                                        city \n",
       "                                  7477470.62 \n",
       "                                   bathrooms \n",
       "                                  5595490.15 \n",
       "                               host_location \n",
       "                                  3527260.08 \n",
       "                neighbourhood_group_cleansed \n",
       "                                  2490957.73 \n",
       "                               property_type \n",
       "                                  1293580.80 \n",
       "                         host_listings_count \n",
       "                                   300849.44 \n",
       "                                 Coffeemaker \n",
       "                                   207804.78 \n",
       "                          Family.kidfriendly \n",
       "                                   204149.86 \n",
       "                                         Gym \n",
       "                                   157235.75 \n",
       "                              host_since_day \n",
       "                                    85398.96 \n",
       "              calculated_host_listings_count \n",
       "                                    71352.97 \n",
       "                                      Washer \n",
       "                                    69201.07 \n",
       "                                extra_people \n",
       "                                    58799.89 \n",
       "                   host_total_listings_count \n",
       "                                    38527.79 \n",
       "                            first_review_day \n",
       "                                    28153.70 \n",
       "                           reviews_per_month \n",
       "                                    18793.69 \n",
       " calculated_host_listings_count_shared_rooms \n",
       "                                    16502.87 "
      ]
     },
     "metadata": {},
     "output_type": "display_data"
    }
   ],
   "source": [
    "tree.model$variable.importance"
   ]
  },
  {
   "cell_type": "code",
   "execution_count": 237,
   "metadata": {},
   "outputs": [
    {
     "name": "stdout",
     "output_type": "stream",
     "text": [
      "\n",
      "Regression tree:\n",
      "rpart(formula = price ~ ., data = train.subset, method = \"anova\", \n",
      "    parms = list(split = \"gini\"), minsplit = 30, cp = best.cp, \n",
      "    xval = 10)\n",
      "\n",
      "Variables actually used in tree construction:\n",
      " [1] accommodates           bathrooms              bedrooms              \n",
      " [4] guests_included        host_location          host_neighbourhood    \n",
      " [7] neighbourhood_cleansed property_type          room_type             \n",
      "[10] zipcode               \n",
      "\n",
      "Root node error: 145655863/19787 = 7361.2\n",
      "\n",
      "n= 19787 \n",
      "\n",
      "          CP nsplit rel error  xerror      xstd\n",
      "1  0.3414478      0   1.00000 1.00007 0.0157140\n",
      "2  0.0782710      1   0.65855 0.65870 0.0119896\n",
      "3  0.0566488      2   0.58028 0.58974 0.0110982\n",
      "4  0.0395709      3   0.52363 0.53354 0.0102542\n",
      "5  0.0223728      4   0.48406 0.49191 0.0092158\n",
      "6  0.0121058      5   0.46169 0.47059 0.0089052\n",
      "7  0.0115734      6   0.44958 0.45965 0.0087528\n",
      "8  0.0081921      7   0.43801 0.44648 0.0085801\n",
      "9  0.0071176      8   0.42982 0.43872 0.0084757\n",
      "10 0.0065006      9   0.42270 0.43825 0.0084862\n",
      "11 0.0063952     10   0.41620 0.43539 0.0084315\n",
      "12 0.0059915     11   0.40980 0.43236 0.0083923\n",
      "13 0.0053837     12   0.40381 0.42967 0.0083826\n",
      "14 0.0038916     13   0.39843 0.42609 0.0082500\n",
      "15 0.0037946     14   0.39454 0.42449 0.0082483\n",
      "16 0.0035466     15   0.39074 0.42346 0.0082668\n",
      "17 0.0031985     16   0.38720 0.42233 0.0082704\n",
      "18 0.0031128     17   0.38400 0.42064 0.0082471\n",
      "19 0.0030667     18   0.38088 0.41851 0.0081992\n",
      "20 0.0029224     19   0.37782 0.41611 0.0081563\n",
      "21 0.0027815     20   0.37490 0.41527 0.0081339\n",
      "22 0.0026490     21   0.37211 0.41440 0.0081387\n",
      "23 0.0024662     22   0.36947 0.41152 0.0081011\n",
      "24 0.0022787     23   0.36700 0.40794 0.0080889\n",
      "25 0.0022365     24   0.36472 0.40606 0.0080581\n",
      "26 0.0022001     25   0.36248 0.40603 0.0080522\n",
      "27 0.0021508     26   0.36028 0.40559 0.0080467\n",
      "28 0.0020820     27   0.35813 0.40558 0.0080527\n",
      "29 0.0020405     28   0.35605 0.40390 0.0080095\n",
      "30 0.0019641     29   0.35401 0.40358 0.0080049\n",
      "31 0.0019057     30   0.35205 0.40275 0.0079736\n",
      "32 0.0018880     31   0.35014 0.40204 0.0079583\n",
      "33 0.0018758     32   0.34825 0.40161 0.0079531\n",
      "34 0.0017580     33   0.34638 0.40067 0.0079289\n",
      "35 0.0017282     34   0.34462 0.39879 0.0078767\n",
      "36 0.0016293     35   0.34289 0.39853 0.0078664\n",
      "37 0.0016174     36   0.34126 0.39822 0.0078691\n",
      "38 0.0016114     37   0.33964 0.39785 0.0078602\n",
      "39 0.0014225     38   0.33803 0.39653 0.0078602\n"
     ]
    }
   ],
   "source": [
    "printcp(tree.model)"
   ]
  },
  {
   "cell_type": "code",
   "execution_count": 227,
   "metadata": {},
   "outputs": [
    {
     "data": {
      "image/png": "[encoded data removed]",
      "text/plain": [
       "plot without title"
      ]
     },
     "metadata": {},
     "output_type": "display_data"
    }
   ],
   "source": [
    "options(repr.plot.width = 8, repr.plot.height = 4)\n",
    "plotcp(tree.model)"
   ]
  },
  {
   "cell_type": "code",
   "execution_count": 242,
   "metadata": {},
   "outputs": [],
   "source": [
    "# save tree model result\n",
    "write.csv(cbind(id = test.set$id, pred.price = y.pred), paste0(path, 'decisiontree_prediction.csv'), row.names = FALSE)"
   ]
  },
  {
   "cell_type": "code",
   "execution_count": 248,
   "metadata": {},
   "outputs": [
    {
     "data": {
      "text/html": [
       "36.0767244355757"
      ],
      "text/latex": [
       "36.0767244355757"
      ],
      "text/markdown": [
       "36.0767244355757"
      ],
      "text/plain": [
       "[1] 36.07672"
      ]
     },
     "metadata": {},
     "output_type": "display_data"
    }
   ],
   "source": [
    "mean(abs(y.pred-test.subset$price))"
   ]
  },
  {
   "cell_type": "code",
   "execution_count": 243,
   "metadata": {},
   "outputs": [
    {
     "data": {
      "text/html": [
       "<table>\n",
       "<thead><tr><th></th><th scope=col>id</th><th scope=col>pred.price</th></tr></thead>\n",
       "<tbody>\n",
       "\t<tr><th scope=row>13</th><td> 7322    </td><td>114.29695</td></tr>\n",
       "\t<tr><th scope=row>27</th><td> 9782    </td><td> 88.05846</td></tr>\n",
       "\t<tr><th scope=row>28</th><td> 9783    </td><td> 77.24730</td></tr>\n",
       "\t<tr><th scope=row>31</th><td>11174    </td><td>116.46373</td></tr>\n",
       "\t<tr><th scope=row>32</th><td>11708    </td><td>116.46373</td></tr>\n",
       "\t<tr><th scope=row>35</th><td>12192    </td><td> 88.05846</td></tr>\n",
       "</tbody>\n",
       "</table>\n"
      ],
      "text/latex": [
       "\\begin{tabular}{r|ll}\n",
       "  & id & pred.price\\\\\n",
       "\\hline\n",
       "\t13 &  7322     & 114.29695\\\\\n",
       "\t27 &  9782     &  88.05846\\\\\n",
       "\t28 &  9783     &  77.24730\\\\\n",
       "\t31 & 11174     & 116.46373\\\\\n",
       "\t32 & 11708     & 116.46373\\\\\n",
       "\t35 & 12192     &  88.05846\\\\\n",
       "\\end{tabular}\n"
      ],
      "text/markdown": [
       "\n",
       "| <!--/--> | id | pred.price | \n",
       "|---|---|---|---|---|---|\n",
       "| 13 |  7322     | 114.29695 | \n",
       "| 27 |  9782     |  88.05846 | \n",
       "| 28 |  9783     |  77.24730 | \n",
       "| 31 | 11174     | 116.46373 | \n",
       "| 32 | 11708     | 116.46373 | \n",
       "| 35 | 12192     |  88.05846 | \n",
       "\n",
       "\n"
      ],
      "text/plain": [
       "   id    pred.price\n",
       "13  7322 114.29695 \n",
       "27  9782  88.05846 \n",
       "28  9783  77.24730 \n",
       "31 11174 116.46373 \n",
       "32 11708 116.46373 \n",
       "35 12192  88.05846 "
      ]
     },
     "metadata": {},
     "output_type": "display_data"
    }
   ],
   "source": [
    "head(cbind(id = test.set$id, pred.price = y.pred))"
   ]
  },
  {
   "cell_type": "code",
   "execution_count": 213,
   "metadata": {
    "scrolled": true
   },
   "outputs": [
    {
     "data": {
      "text/html": [
       "<ol class=list-inline>\n",
       "\t<li>'neighbourhood'</li>\n",
       "\t<li>'host_since_day'</li>\n",
       "\t<li>'host_location'</li>\n",
       "\t<li>'host_response_time'</li>\n",
       "\t<li>'host_is_superhost'</li>\n",
       "\t<li>'host_neighbourhood'</li>\n",
       "\t<li>'host_listings_count'</li>\n",
       "\t<li>'host_total_listings_count'</li>\n",
       "\t<li>'host_has_profile_pic'</li>\n",
       "\t<li>'host_identity_verified'</li>\n",
       "\t<li>'street'</li>\n",
       "\t<li>'neighbourhood_cleansed'</li>\n",
       "\t<li>'neighbourhood_group_cleansed'</li>\n",
       "\t<li>'city'</li>\n",
       "\t<li>'zipcode'</li>\n",
       "\t<li>'property_type'</li>\n",
       "\t<li>'room_type'</li>\n",
       "\t<li>'accommodates'</li>\n",
       "\t<li>'bathrooms'</li>\n",
       "\t<li>'bedrooms'</li>\n",
       "\t<li>'beds'</li>\n",
       "\t<li>'bed_type'</li>\n",
       "\t<li>'square_feet'</li>\n",
       "\t<li>'guests_included'</li>\n",
       "\t<li>'extra_people'</li>\n",
       "\t<li>'number_of_reviews'</li>\n",
       "\t<li>'number_of_reviews_ltm'</li>\n",
       "\t<li>'review_scores_rating'</li>\n",
       "\t<li>'instant_bookable'</li>\n",
       "\t<li>'cancellation_policy'</li>\n",
       "</ol>\n"
      ],
      "text/latex": [
       "\\begin{enumerate*}\n",
       "\\item 'neighbourhood'\n",
       "\\item 'host\\_since\\_day'\n",
       "\\item 'host\\_location'\n",
       "\\item 'host\\_response\\_time'\n",
       "\\item 'host\\_is\\_superhost'\n",
       "\\item 'host\\_neighbourhood'\n",
       "\\item 'host\\_listings\\_count'\n",
       "\\item 'host\\_total\\_listings\\_count'\n",
       "\\item 'host\\_has\\_profile\\_pic'\n",
       "\\item 'host\\_identity\\_verified'\n",
       "\\item 'street'\n",
       "\\item 'neighbourhood\\_cleansed'\n",
       "\\item 'neighbourhood\\_group\\_cleansed'\n",
       "\\item 'city'\n",
       "\\item 'zipcode'\n",
       "\\item 'property\\_type'\n",
       "\\item 'room\\_type'\n",
       "\\item 'accommodates'\n",
       "\\item 'bathrooms'\n",
       "\\item 'bedrooms'\n",
       "\\item 'beds'\n",
       "\\item 'bed\\_type'\n",
       "\\item 'square\\_feet'\n",
       "\\item 'guests\\_included'\n",
       "\\item 'extra\\_people'\n",
       "\\item 'number\\_of\\_reviews'\n",
       "\\item 'number\\_of\\_reviews\\_ltm'\n",
       "\\item 'review\\_scores\\_rating'\n",
       "\\item 'instant\\_bookable'\n",
       "\\item 'cancellation\\_policy'\n",
       "\\end{enumerate*}\n"
      ],
      "text/markdown": [
       "1. 'neighbourhood'\n",
       "2. 'host_since_day'\n",
       "3. 'host_location'\n",
       "4. 'host_response_time'\n",
       "5. 'host_is_superhost'\n",
       "6. 'host_neighbourhood'\n",
       "7. 'host_listings_count'\n",
       "8. 'host_total_listings_count'\n",
       "9. 'host_has_profile_pic'\n",
       "10. 'host_identity_verified'\n",
       "11. 'street'\n",
       "12. 'neighbourhood_cleansed'\n",
       "13. 'neighbourhood_group_cleansed'\n",
       "14. 'city'\n",
       "15. 'zipcode'\n",
       "16. 'property_type'\n",
       "17. 'room_type'\n",
       "18. 'accommodates'\n",
       "19. 'bathrooms'\n",
       "20. 'bedrooms'\n",
       "21. 'beds'\n",
       "22. 'bed_type'\n",
       "23. 'square_feet'\n",
       "24. 'guests_included'\n",
       "25. 'extra_people'\n",
       "26. 'number_of_reviews'\n",
       "27. 'number_of_reviews_ltm'\n",
       "28. 'review_scores_rating'\n",
       "29. 'instant_bookable'\n",
       "30. 'cancellation_policy'\n",
       "\n",
       "\n"
      ],
      "text/plain": [
       " [1] \"neighbourhood\"                \"host_since_day\"              \n",
       " [3] \"host_location\"                \"host_response_time\"          \n",
       " [5] \"host_is_superhost\"            \"host_neighbourhood\"          \n",
       " [7] \"host_listings_count\"          \"host_total_listings_count\"   \n",
       " [9] \"host_has_profile_pic\"         \"host_identity_verified\"      \n",
       "[11] \"street\"                       \"neighbourhood_cleansed\"      \n",
       "[13] \"neighbourhood_group_cleansed\" \"city\"                        \n",
       "[15] \"zipcode\"                      \"property_type\"               \n",
       "[17] \"room_type\"                    \"accommodates\"                \n",
       "[19] \"bathrooms\"                    \"bedrooms\"                    \n",
       "[21] \"beds\"                         \"bed_type\"                    \n",
       "[23] \"square_feet\"                  \"guests_included\"             \n",
       "[25] \"extra_people\"                 \"number_of_reviews\"           \n",
       "[27] \"number_of_reviews_ltm\"        \"review_scores_rating\"        \n",
       "[29] \"instant_bookable\"             \"cancellation_policy\"         "
      ]
     },
     "metadata": {},
     "output_type": "display_data"
    }
   ],
   "source": [
    "# Attributes actually used\n",
    "feature.used <- attr(tree.model$terms,\"term.labels\")\n",
    "feature.used"
   ]
  },
  {
   "cell_type": "markdown",
   "metadata": {},
   "source": [
    "## Try Cluster-wise tree model"
   ]
  },
  {
   "cell_type": "code",
   "execution_count": 105,
   "metadata": {},
   "outputs": [],
   "source": [
    "# Cluster-wise tree model\n",
    "\n",
    "clustreg=function(dat,k,tries,sed,niter, cp.conservative){\n",
    "    set.seed(sed)\n",
    "    dat=as.data.frame(dat) # convert to datframe\n",
    "    rsq=rep(NA,niter)\n",
    "    res=list()\n",
    "    rsq.best=0\n",
    "    for(l in 1:tries){\n",
    "        c = sample(1:k,nrow(dat),replace=TRUE)\n",
    "        yhat=rep(NA,nrow(dat))\n",
    "        for(i in 1:niter){\n",
    "            resid=pred=matrix(0,nrow(dat),k)\n",
    "            for(j in 1:k){\n",
    "                print(paste0(l, ' try, ', i, ' iteration, cluster ', j, ', tree training'))\n",
    "                flush.console()\n",
    "                \n",
    "                # initial attempt for the tree.model\n",
    "                tree.model <- rpart(price~., data = dat[c==j,], method = 'anova',\n",
    "                   minsplit = 30, cp = 0, xval = 10)\n",
    "                \n",
    "                # Find the best complexity parameter\n",
    "                cptable <- tree.model$cptable\n",
    "                if (cp.conservative == TRUE){\n",
    "                    max.error.allowed <- sum(cptable[which.min(cptable[,4]),c(4, 5)])\n",
    "                    acceptable.cp <- cptable[cptable[,4] < max.error.allowed,]\n",
    "                    best.cp <- acceptable.cp[1,1]\n",
    "                }\n",
    "                if (cp.conservative == FALSE){\n",
    "                    best.cp <- cptable[which.min(cptable[,4]), 1]\n",
    "                }\n",
    "                # Build a new tree model\n",
    "                tree.model <- rpart(price~., data = dat[c==j,], method = 'anova',\n",
    "                   minsplit = 30, cp = best.cp, xval = 10)\n",
    "                \n",
    "                pred[,j]=predict(tree.model,newdata=dat)\n",
    "                resid[,j] = (pred[,j]-dat[,1])^2\n",
    "            }\n",
    "            c = apply(resid,1,which.min)\n",
    "            for(m in 1:nrow(dat)){\n",
    "                yhat[m]=pred[m,c[m]]\n",
    "            }\n",
    "            rsq[i] = cor(dat[,1],yhat)^2\n",
    "        }\n",
    "        if(rsq[niter] > rsq.best){\n",
    "            rsq.best=rsq[niter] # The assignment of cluster is based on r.squared\n",
    "            l.best=l\n",
    "            c.best=c\n",
    "            yhat.best=yhat\n",
    "        }\n",
    "    }\n",
    "    print(\"Finalizing Models...\")\n",
    "    flush.console()\n",
    "    res=list(\"Complete\")\n",
    "    for(i in 1:k) {\n",
    "        \n",
    "        tree.model <- rpart(price~., dat[c.best==i,], method = 'anova',\n",
    "                      minsplit = 30, cp = 0, xval = 10)\n",
    "        \n",
    "        cptable <- tree.model$cptable\n",
    "        if (cp.conservative == TRUE){\n",
    "            max.error.allowed <- sum(cptable[which.min(cptable[,4]),c(4, 5)])\n",
    "            acceptable.cp <- cptable[cptable[,4] < max.error.allowed,]\n",
    "            best.cp <- acceptable.cp[1,1]\n",
    "        }\n",
    "        if (cp.conservative == FALSE){\n",
    "            best.cp <- cptable[which.min(cptable[,4]), 1]\n",
    "        }\n",
    "        tree.model <- rpart(price~., dat[c.best==i,], method = 'anova',\n",
    "                   minsplit = 30, cp = best.cp, xval = 10)\n",
    "        \n",
    "        res[[i]] = tree.model\n",
    "    }\n",
    "    return(list(data=dat,nclust=k,tries=tries,seed=sed,\n",
    "                rsq.best=rsq.best,number.loops=niter, \n",
    "                Best.try=l.best,cluster=c.best,results=res))\n",
    "}"
   ]
  },
  {
   "cell_type": "code",
   "execution_count": 43,
   "metadata": {},
   "outputs": [],
   "source": [
    "# Prediction for the test-set label\n",
    "\n",
    "clustreg.predict=function(results,newdat,pred.class){\n",
    "    yhat=rep(NA,nrow(newdat))\n",
    "    resid=pred=matrix(0,nrow(newdat),length(table(results$cluster)))\n",
    "    for (j in 1:length(table(results$cluster))){\n",
    "        pred[,j] = predict(results$results[[as.integer(j)]], newdata=newdat)\n",
    "        resid[,j] = (pred[,j]-newdat[,1])^2\n",
    "    }\n",
    "    c = apply(resid,1,which.min)\n",
    "    for(m in 1:nrow(newdat)) {\n",
    "        yhat[m]=pred[m,c[m]]\n",
    "    }\n",
    "    rsq = cor(newdat[,1],yhat)^2\n",
    "    return(list(results=results,newdata=newdat,cluster=c,yhat=yhat,rsq=rsq))\n",
    "}"
   ]
  },
  {
   "cell_type": "code",
   "execution_count": 44,
   "metadata": {},
   "outputs": [],
   "source": [
    "# Prediction for the test-set price\n",
    "\n",
    "clustreg.pred=function(results,newdat,pred.class){\n",
    "    yhat=rep(NA,nrow(newdat))\n",
    "    k = length(table(pred.class))\n",
    "    for (j in 1:k){\n",
    "        class.ind <- c(1:length(pred.class))[pred.class == j]\n",
    "        yhat[class.ind] <- predict(results$results[[j]], newdata = newdat[class.ind,])\n",
    "    }\n",
    "    rsq = cor(newdat[,1],yhat)^2\n",
    "    return(list(results=results,newdata=newdat,yhat=yhat,rsq=rsq))\n",
    "}"
   ]
  },
  {
   "cell_type": "code",
   "execution_count": 77,
   "metadata": {},
   "outputs": [
    {
     "data": {
      "text/html": [
       "<dl class=dl-horizontal>\n",
       "\t<dt>zipcode</dt>\n",
       "\t\t<dd>21519696.7899467</dd>\n",
       "\t<dt>bedrooms</dt>\n",
       "\t\t<dd>20698235.5060763</dd>\n",
       "\t<dt>neighbourhood_cleansed</dt>\n",
       "\t\t<dd>16760279.0697839</dd>\n",
       "\t<dt>host_neighbourhood</dt>\n",
       "\t\t<dd>14107486.604941</dd>\n",
       "\t<dt>accommodates</dt>\n",
       "\t\t<dd>12008975.400135</dd>\n",
       "\t<dt>neighbourhood</dt>\n",
       "\t\t<dd>10097234.4870086</dd>\n",
       "\t<dt>beds</dt>\n",
       "\t\t<dd>8531586.97804865</dd>\n",
       "\t<dt>guests_included</dt>\n",
       "\t\t<dd>7273722.86153067</dd>\n",
       "\t<dt>bathrooms</dt>\n",
       "\t\t<dd>3494168.99557422</dd>\n",
       "\t<dt>street</dt>\n",
       "\t\t<dd>3379157.78906048</dd>\n",
       "\t<dt>neighbourhood_group_cleansed</dt>\n",
       "\t\t<dd>2874713.76570137</dd>\n",
       "\t<dt>host_location</dt>\n",
       "\t\t<dd>2473473.36200258</dd>\n",
       "\t<dt>city</dt>\n",
       "\t\t<dd>888426.122365112</dd>\n",
       "\t<dt>room_type</dt>\n",
       "\t\t<dd>422558.238668905</dd>\n",
       "\t<dt>calculated_host_listings_count_private_rooms</dt>\n",
       "\t\t<dd>362043.725476815</dd>\n",
       "\t<dt>calculated_host_listings_count_entire_homes</dt>\n",
       "\t\t<dd>313006.102717707</dd>\n",
       "\t<dt>host_listings_count</dt>\n",
       "\t\t<dd>135631.692654509</dd>\n",
       "\t<dt>translationmissing.en.hosting_amenity_49</dt>\n",
       "\t\t<dd>91109.9115987711</dd>\n",
       "\t<dt>property_type</dt>\n",
       "\t\t<dd>38807.5002415237</dd>\n",
       "</dl>\n"
      ],
      "text/latex": [
       "\\begin{description*}\n",
       "\\item[zipcode] 21519696.7899467\n",
       "\\item[bedrooms] 20698235.5060763\n",
       "\\item[neighbourhood\\textbackslash{}\\_cleansed] 16760279.0697839\n",
       "\\item[host\\textbackslash{}\\_neighbourhood] 14107486.604941\n",
       "\\item[accommodates] 12008975.400135\n",
       "\\item[neighbourhood] 10097234.4870086\n",
       "\\item[beds] 8531586.97804865\n",
       "\\item[guests\\textbackslash{}\\_included] 7273722.86153067\n",
       "\\item[bathrooms] 3494168.99557422\n",
       "\\item[street] 3379157.78906048\n",
       "\\item[neighbourhood\\textbackslash{}\\_group\\textbackslash{}\\_cleansed] 2874713.76570137\n",
       "\\item[host\\textbackslash{}\\_location] 2473473.36200258\n",
       "\\item[city] 888426.122365112\n",
       "\\item[room\\textbackslash{}\\_type] 422558.238668905\n",
       "\\item[calculated\\textbackslash{}\\_host\\textbackslash{}\\_listings\\textbackslash{}\\_count\\textbackslash{}\\_private\\textbackslash{}\\_rooms] 362043.725476815\n",
       "\\item[calculated\\textbackslash{}\\_host\\textbackslash{}\\_listings\\textbackslash{}\\_count\\textbackslash{}\\_entire\\textbackslash{}\\_homes] 313006.102717707\n",
       "\\item[host\\textbackslash{}\\_listings\\textbackslash{}\\_count] 135631.692654509\n",
       "\\item[translationmissing.en.hosting\\textbackslash{}\\_amenity\\textbackslash{}\\_49] 91109.9115987711\n",
       "\\item[property\\textbackslash{}\\_type] 38807.5002415237\n",
       "\\end{description*}\n"
      ],
      "text/markdown": [
       "zipcode\n",
       ":   21519696.7899467bedrooms\n",
       ":   20698235.5060763neighbourhood_cleansed\n",
       ":   16760279.0697839host_neighbourhood\n",
       ":   14107486.604941accommodates\n",
       ":   12008975.400135neighbourhood\n",
       ":   10097234.4870086beds\n",
       ":   8531586.97804865guests_included\n",
       ":   7273722.86153067bathrooms\n",
       ":   3494168.99557422street\n",
       ":   3379157.78906048neighbourhood_group_cleansed\n",
       ":   2874713.76570137host_location\n",
       ":   2473473.36200258city\n",
       ":   888426.122365112room_type\n",
       ":   422558.238668905calculated_host_listings_count_private_rooms\n",
       ":   362043.725476815calculated_host_listings_count_entire_homes\n",
       ":   313006.102717707host_listings_count\n",
       ":   135631.692654509translationmissing.en.hosting_amenity_49\n",
       ":   91109.9115987711property_type\n",
       ":   38807.5002415237\n",
       "\n"
      ],
      "text/plain": [
       "                                     zipcode \n",
       "                                 21519696.79 \n",
       "                                    bedrooms \n",
       "                                 20698235.51 \n",
       "                      neighbourhood_cleansed \n",
       "                                 16760279.07 \n",
       "                          host_neighbourhood \n",
       "                                 14107486.60 \n",
       "                                accommodates \n",
       "                                 12008975.40 \n",
       "                               neighbourhood \n",
       "                                 10097234.49 \n",
       "                                        beds \n",
       "                                  8531586.98 \n",
       "                             guests_included \n",
       "                                  7273722.86 \n",
       "                                   bathrooms \n",
       "                                  3494169.00 \n",
       "                                      street \n",
       "                                  3379157.79 \n",
       "                neighbourhood_group_cleansed \n",
       "                                  2874713.77 \n",
       "                               host_location \n",
       "                                  2473473.36 \n",
       "                                        city \n",
       "                                   888426.12 \n",
       "                                   room_type \n",
       "                                   422558.24 \n",
       "calculated_host_listings_count_private_rooms \n",
       "                                   362043.73 \n",
       " calculated_host_listings_count_entire_homes \n",
       "                                   313006.10 \n",
       "                         host_listings_count \n",
       "                                   135631.69 \n",
       "    translationmissing.en.hosting_amenity_49 \n",
       "                                    91109.91 \n",
       "                               property_type \n",
       "                                    38807.50 "
      ]
     },
     "metadata": {},
     "output_type": "display_data"
    }
   ],
   "source": [
    "cr.2$results[[2]]$variable.importance"
   ]
  },
  {
   "cell_type": "code",
   "execution_count": 178,
   "metadata": {},
   "outputs": [
    {
     "name": "stdout",
     "output_type": "stream",
     "text": [
      "[1] \"1 try, 1 iteration, cluster 1, tree training\"\n",
      "[1] \"1 try, 1 iteration, cluster 2, tree training\"\n",
      "[1] \"1 try, 2 iteration, cluster 1, tree training\"\n",
      "[1] \"1 try, 2 iteration, cluster 2, tree training\"\n",
      "[1] \"1 try, 3 iteration, cluster 1, tree training\"\n",
      "[1] \"1 try, 3 iteration, cluster 2, tree training\"\n",
      "[1] \"1 try, 4 iteration, cluster 1, tree training\"\n",
      "[1] \"1 try, 4 iteration, cluster 2, tree training\"\n",
      "[1] \"1 try, 5 iteration, cluster 1, tree training\"\n",
      "[1] \"1 try, 5 iteration, cluster 2, tree training\"\n",
      "[1] \"1 try, 6 iteration, cluster 1, tree training\"\n",
      "[1] \"1 try, 6 iteration, cluster 2, tree training\"\n",
      "[1] \"1 try, 7 iteration, cluster 1, tree training\"\n",
      "[1] \"1 try, 7 iteration, cluster 2, tree training\"\n",
      "[1] \"1 try, 8 iteration, cluster 1, tree training\"\n",
      "[1] \"1 try, 8 iteration, cluster 2, tree training\"\n",
      "[1] \"1 try, 9 iteration, cluster 1, tree training\"\n",
      "[1] \"1 try, 9 iteration, cluster 2, tree training\"\n",
      "[1] \"1 try, 10 iteration, cluster 1, tree training\"\n",
      "[1] \"1 try, 10 iteration, cluster 2, tree training\"\n",
      "[1] \"1 try, 11 iteration, cluster 1, tree training\"\n",
      "[1] \"1 try, 11 iteration, cluster 2, tree training\"\n",
      "[1] \"1 try, 12 iteration, cluster 1, tree training\"\n",
      "[1] \"1 try, 12 iteration, cluster 2, tree training\"\n",
      "[1] \"1 try, 13 iteration, cluster 1, tree training\"\n",
      "[1] \"1 try, 13 iteration, cluster 2, tree training\"\n",
      "[1] \"1 try, 14 iteration, cluster 1, tree training\"\n",
      "[1] \"1 try, 14 iteration, cluster 2, tree training\"\n",
      "[1] \"1 try, 15 iteration, cluster 1, tree training\"\n",
      "[1] \"1 try, 15 iteration, cluster 2, tree training\"\n",
      "[1] \"1 try, 16 iteration, cluster 1, tree training\"\n",
      "[1] \"1 try, 16 iteration, cluster 2, tree training\"\n",
      "[1] \"1 try, 17 iteration, cluster 1, tree training\"\n",
      "[1] \"1 try, 17 iteration, cluster 2, tree training\"\n",
      "[1] \"1 try, 18 iteration, cluster 1, tree training\"\n",
      "[1] \"1 try, 18 iteration, cluster 2, tree training\"\n",
      "[1] \"1 try, 19 iteration, cluster 1, tree training\"\n",
      "[1] \"1 try, 19 iteration, cluster 2, tree training\"\n",
      "[1] \"1 try, 20 iteration, cluster 1, tree training\"\n",
      "[1] \"1 try, 20 iteration, cluster 2, tree training\"\n",
      "[1] \"1 try, 21 iteration, cluster 1, tree training\"\n",
      "[1] \"1 try, 21 iteration, cluster 2, tree training\"\n",
      "[1] \"1 try, 22 iteration, cluster 1, tree training\"\n",
      "[1] \"1 try, 22 iteration, cluster 2, tree training\"\n",
      "[1] \"1 try, 23 iteration, cluster 1, tree training\"\n",
      "[1] \"1 try, 23 iteration, cluster 2, tree training\"\n",
      "[1] \"1 try, 24 iteration, cluster 1, tree training\"\n",
      "[1] \"1 try, 24 iteration, cluster 2, tree training\"\n",
      "[1] \"1 try, 25 iteration, cluster 1, tree training\"\n",
      "[1] \"1 try, 25 iteration, cluster 2, tree training\"\n",
      "[1] \"2 try, 1 iteration, cluster 1, tree training\"\n",
      "[1] \"2 try, 1 iteration, cluster 2, tree training\"\n",
      "[1] \"2 try, 2 iteration, cluster 1, tree training\"\n",
      "[1] \"2 try, 2 iteration, cluster 2, tree training\"\n",
      "[1] \"2 try, 3 iteration, cluster 1, tree training\"\n",
      "[1] \"2 try, 3 iteration, cluster 2, tree training\"\n",
      "[1] \"2 try, 4 iteration, cluster 1, tree training\"\n",
      "[1] \"2 try, 4 iteration, cluster 2, tree training\"\n",
      "[1] \"2 try, 5 iteration, cluster 1, tree training\"\n",
      "[1] \"2 try, 5 iteration, cluster 2, tree training\"\n",
      "[1] \"2 try, 6 iteration, cluster 1, tree training\"\n",
      "[1] \"2 try, 6 iteration, cluster 2, tree training\"\n",
      "[1] \"2 try, 7 iteration, cluster 1, tree training\"\n",
      "[1] \"2 try, 7 iteration, cluster 2, tree training\"\n",
      "[1] \"2 try, 8 iteration, cluster 1, tree training\"\n",
      "[1] \"2 try, 8 iteration, cluster 2, tree training\"\n",
      "[1] \"2 try, 9 iteration, cluster 1, tree training\"\n",
      "[1] \"2 try, 9 iteration, cluster 2, tree training\"\n",
      "[1] \"2 try, 10 iteration, cluster 1, tree training\"\n",
      "[1] \"2 try, 10 iteration, cluster 2, tree training\"\n",
      "[1] \"2 try, 11 iteration, cluster 1, tree training\"\n",
      "[1] \"2 try, 11 iteration, cluster 2, tree training\"\n",
      "[1] \"2 try, 12 iteration, cluster 1, tree training\"\n",
      "[1] \"2 try, 12 iteration, cluster 2, tree training\"\n",
      "[1] \"2 try, 13 iteration, cluster 1, tree training\"\n",
      "[1] \"2 try, 13 iteration, cluster 2, tree training\"\n",
      "[1] \"2 try, 14 iteration, cluster 1, tree training\"\n",
      "[1] \"2 try, 14 iteration, cluster 2, tree training\"\n",
      "[1] \"2 try, 15 iteration, cluster 1, tree training\"\n",
      "[1] \"2 try, 15 iteration, cluster 2, tree training\"\n",
      "[1] \"2 try, 16 iteration, cluster 1, tree training\"\n",
      "[1] \"2 try, 16 iteration, cluster 2, tree training\"\n",
      "[1] \"2 try, 17 iteration, cluster 1, tree training\"\n",
      "[1] \"2 try, 17 iteration, cluster 2, tree training\"\n",
      "[1] \"2 try, 18 iteration, cluster 1, tree training\"\n",
      "[1] \"2 try, 18 iteration, cluster 2, tree training\"\n",
      "[1] \"2 try, 19 iteration, cluster 1, tree training\"\n",
      "[1] \"2 try, 19 iteration, cluster 2, tree training\"\n",
      "[1] \"2 try, 20 iteration, cluster 1, tree training\"\n",
      "[1] \"2 try, 20 iteration, cluster 2, tree training\"\n",
      "[1] \"2 try, 21 iteration, cluster 1, tree training\"\n",
      "[1] \"2 try, 21 iteration, cluster 2, tree training\"\n",
      "[1] \"2 try, 22 iteration, cluster 1, tree training\"\n",
      "[1] \"2 try, 22 iteration, cluster 2, tree training\"\n",
      "[1] \"2 try, 23 iteration, cluster 1, tree training\"\n",
      "[1] \"2 try, 23 iteration, cluster 2, tree training\"\n",
      "[1] \"2 try, 24 iteration, cluster 1, tree training\"\n",
      "[1] \"2 try, 24 iteration, cluster 2, tree training\"\n",
      "[1] \"2 try, 25 iteration, cluster 1, tree training\"\n",
      "[1] \"2 try, 25 iteration, cluster 2, tree training\"\n",
      "[1] \"Finalizing Models...\"\n"
     ]
    }
   ],
   "source": [
    "cr.2 <- clustreg(train.subset, k=2, tries = 2, sed = 2020, niter = 25, cp.conservative = TRUE)"
   ]
  },
  {
   "cell_type": "code",
   "execution_count": 179,
   "metadata": {},
   "outputs": [
    {
     "data": {
      "text/html": [
       "0.842678086959107"
      ],
      "text/latex": [
       "0.842678086959107"
      ],
      "text/markdown": [
       "0.842678086959107"
      ],
      "text/plain": [
       "[1] 0.8426781"
      ]
     },
     "metadata": {},
     "output_type": "display_data"
    }
   ],
   "source": [
    "# Train R2\n",
    "cr.2$rsq"
   ]
  },
  {
   "cell_type": "code",
   "execution_count": 180,
   "metadata": {},
   "outputs": [
    {
     "data": {
      "text/html": [
       "0.816364587268545"
      ],
      "text/latex": [
       "0.816364587268545"
      ],
      "text/markdown": [
       "0.816364587268545"
      ],
      "text/plain": [
       "[1] 0.8163646"
      ]
     },
     "metadata": {},
     "output_type": "display_data"
    }
   ],
   "source": [
    "# Best Test set R2\n",
    "cr.pred.2 <- clustreg.predict(cr.2, test.subset)\n",
    "cr.pred.2$rsq"
   ]
  },
  {
   "cell_type": "code",
   "execution_count": 181,
   "metadata": {},
   "outputs": [],
   "source": [
    "features = c('price', 'neighbourhood', 'host_since_day', 'host_location',\n",
    "            'host_response_time', 'host_is_superhost','host_neighbourhood',\n",
    "            'host_listings_count', \"host_total_listings_count\",\n",
    "            'host_has_profile_pic','host_identity_verified', 'street',\n",
    "            'neighbourhood_cleansed', 'neighbourhood_group_cleansed',\n",
    "            'city', 'zipcode', 'property_type', 'room_type', 'accommodates',\n",
    "            'bathrooms', 'bedrooms','beds', 'bed_type', 'square_feet',\n",
    "            'guests_included', 'extra_people', 'number_of_reviews',\n",
    "            'number_of_reviews_ltm', 'review_scores_rating', 'instant_bookable',\n",
    "            'cancellation_policy', 'require_guest_profile_picture',\n",
    "            'require_guest_phone_verification', 'calculated_host_listings_count',\n",
    "            'calculated_host_listings_count_entire_homes', 'calculated_host_listings_count_private_rooms',\n",
    "            'calculated_host_listings_count_shared_rooms', 'reviews_per_month',\n",
    "            'first_review_day', 'last_review_day'\n",
    "            )\n",
    "class.features <- c(features, imp_amenities)\n",
    "class.train.subset <- train.set[,match(class.features, colnames(train.set))]\n",
    "class.test.subset <- test.set[,match(class.features, colnames(test.set))]"
   ]
  },
  {
   "cell_type": "code",
   "execution_count": 182,
   "metadata": {},
   "outputs": [],
   "source": [
    "# Train a tree classifier to predict the clusters in trian\n",
    "tree.classifier <- rpart(cluster~., data = cbind(class.train.subset, cluster = cr.2$cluster-1), \n",
    "                         method = 'class',xval = 12, cp = 0, minsplit = 0, parms=list(split=\"information\"))\n",
    "cptable <- tree.classifier$cptable\n",
    "\n",
    "# Method 1: Conservative\n",
    "#max.error.allowed <- sum(cptable[which.min(cptable[,4]),c(4, 5)])\n",
    "#acceptable.cp <- cptable[cptable[,4] < max.error.allowed,]\n",
    "#best.cp <- acceptable.cp[1,1]\n",
    "\n",
    "# Method 2: Agressive\n",
    "best.cp <- cptable[which.min(cptable[,4]), 1]\n",
    "\n",
    "tree.classifier <- rpart(cluster~., data = cbind(class.train.subset, cluster = cr.2$cluster-1), method = 'class',xval = 12,\n",
    "                        cp = best.cp)"
   ]
  },
  {
   "cell_type": "code",
   "execution_count": 207,
   "metadata": {},
   "outputs": [
    {
     "name": "stdout",
     "output_type": "stream",
     "text": [
      "[1] \"Train Class Acc: 0.977055642593622\"\n",
      "[1] \"Test Class Acc: 0.947765593679991\"\n"
     ]
    }
   ],
   "source": [
    "#Class Prediction Accuracy\n",
    "tree.class.train <- as.integer(predict(tree.classifier, type = 'class'))\n",
    "tree.class.test <- as.integer(predict(tree.classifier, newdata = class.test.subset, type = 'class'))\n",
    "print(paste0(\"Train Class Acc: \", sum(tree.class.train == (cr.2$cluster)) / dim(train.subset)[1]))\n",
    "print(paste0(\"Test Class Acc: \", sum(tree.class.test == cr.pred.2$cluster)/dim(test.subset)[1]))"
   ]
  },
  {
   "cell_type": "code",
   "execution_count": 184,
   "metadata": {
    "scrolled": false
   },
   "outputs": [
    {
     "data": {
      "text/html": [
       "0.734378839344146"
      ],
      "text/latex": [
       "0.734378839344146"
      ],
      "text/markdown": [
       "0.734378839344146"
      ],
      "text/plain": [
       "[1] 0.7343788"
      ]
     },
     "metadata": {},
     "output_type": "display_data"
    }
   ],
   "source": [
    "# Predict for the test set\n",
    "tree.class.test <- as.integer(predict(tree.classifier, newdata = test.subset, type = 'class'))\n",
    "tree.pred <- clustreg.pred(cr.2, test.subset, tree.class.test)\n",
    "tree.pred$rsq"
   ]
  },
  {
   "cell_type": "code",
   "execution_count": 211,
   "metadata": {
    "scrolled": true
   },
   "outputs": [
    {
     "data": {
      "text/html": [
       "0.877652505663526"
      ],
      "text/latex": [
       "0.877652505663526"
      ],
      "text/markdown": [
       "0.877652505663526"
      ],
      "text/plain": [
       "[1] 0.8776525"
      ]
     },
     "metadata": {},
     "output_type": "display_data"
    },
    {
     "data": {
      "text/html": [
       "0.753015161761279"
      ],
      "text/latex": [
       "0.753015161761279"
      ],
      "text/markdown": [
       "0.753015161761279"
      ],
      "text/plain": [
       "[1] 0.7530152"
      ]
     },
     "metadata": {},
     "output_type": "display_data"
    }
   ],
   "source": [
    "# Training set accuracy by model\n",
    "r2(cr.2.train.pred$yhat[cr.2$cluster == 1], train.subset$price[cr.2$cluster == 1])\n",
    "r2(cr.2.train.pred$yhat[cr.2$cluster == 2], train.subset$price[cr.2$cluster == 2])"
   ]
  },
  {
   "cell_type": "code",
   "execution_count": 212,
   "metadata": {
    "scrolled": true
   },
   "outputs": [
    {
     "data": {
      "text/html": [
       "0.741714801575437"
      ],
      "text/latex": [
       "0.741714801575437"
      ],
      "text/markdown": [
       "0.741714801575437"
      ],
      "text/plain": [
       "[1] 0.7417148"
      ]
     },
     "metadata": {},
     "output_type": "display_data"
    },
    {
     "data": {
      "text/html": [
       "0.66116676930031"
      ],
      "text/latex": [
       "0.66116676930031"
      ],
      "text/markdown": [
       "0.66116676930031"
      ],
      "text/plain": [
       "[1] 0.6611668"
      ]
     },
     "metadata": {},
     "output_type": "display_data"
    }
   ],
   "source": [
    "# Training set accuracy by model\n",
    "r2(tree.pred$yhat[tree.class.test == 1], test.subset$price[tree.class.test == 1])\n",
    "r2(tree.pred$yhat[tree.class.test == 2], test.subset$price[tree.class.test== 2])"
   ]
  },
  {
   "cell_type": "code",
   "execution_count": 186,
   "metadata": {
    "scrolled": true
   },
   "outputs": [
    {
     "data": {
      "text/html": [
       "0.830346311830431"
      ],
      "text/latex": [
       "0.830346311830431"
      ],
      "text/markdown": [
       "0.830346311830431"
      ],
      "text/plain": [
       "[1] 0.8303463"
      ]
     },
     "metadata": {},
     "output_type": "display_data"
    },
    {
     "data": {
      "text/html": [
       "-0.749487521301958"
      ],
      "text/latex": [
       "-0.749487521301958"
      ],
      "text/markdown": [
       "-0.749487521301958"
      ],
      "text/plain": [
       "[1] -0.7494875"
      ]
     },
     "metadata": {},
     "output_type": "display_data"
    }
   ],
   "source": [
    "# R2 for correctly-classified and mis-classified sets\n",
    "r2(tree.pred$yhat[tree.class.test == cr.pred.2$cluster], test.subset$price[tree.class.test == cr.pred.2$cluster])\n",
    "r2(tree.pred$yhat[tree.class.test != cr.pred.2$cluster], test.subset$price[tree.class.test != cr.pred.2$cluster])"
   ]
  },
  {
   "cell_type": "code",
   "execution_count": 203,
   "metadata": {},
   "outputs": [
    {
     "name": "stdout",
     "output_type": "stream",
     "text": [
      "[1] \"Misclassification: 0.0522344063200094\"\n"
     ]
    }
   ],
   "source": [
    "print(paste0(\"Misclassification: \", sum(tree.class.test != cr.pred.2$cluster) / dim(test.subset)[1]))"
   ]
  },
  {
   "cell_type": "code",
   "execution_count": 114,
   "metadata": {},
   "outputs": [
    {
     "data": {
      "text/html": [
       "0.79716863942462"
      ],
      "text/latex": [
       "0.79716863942462"
      ],
      "text/markdown": [
       "0.79716863942462"
      ],
      "text/plain": [
       "[1] 0.7971686"
      ]
     },
     "metadata": {},
     "output_type": "display_data"
    }
   ],
   "source": [
    "cr.pred.2$rsq"
   ]
  },
  {
   "cell_type": "code",
   "execution_count": 56,
   "metadata": {},
   "outputs": [
    {
     "data": {
      "text/html": [
       "<ol class=list-inline>\n",
       "\t<li>'results'</li>\n",
       "\t<li>'newdata'</li>\n",
       "\t<li>'cluster'</li>\n",
       "\t<li>'yhat'</li>\n",
       "\t<li>'rsq'</li>\n",
       "</ol>\n"
      ],
      "text/latex": [
       "\\begin{enumerate*}\n",
       "\\item 'results'\n",
       "\\item 'newdata'\n",
       "\\item 'cluster'\n",
       "\\item 'yhat'\n",
       "\\item 'rsq'\n",
       "\\end{enumerate*}\n"
      ],
      "text/markdown": [
       "1. 'results'\n",
       "2. 'newdata'\n",
       "3. 'cluster'\n",
       "4. 'yhat'\n",
       "5. 'rsq'\n",
       "\n",
       "\n"
      ],
      "text/plain": [
       "[1] \"results\" \"newdata\" \"cluster\" \"yhat\"    \"rsq\"    "
      ]
     },
     "metadata": {},
     "output_type": "display_data"
    }
   ],
   "source": [
    "names(cr.pred.2)"
   ]
  },
  {
   "cell_type": "code",
   "execution_count": 213,
   "metadata": {
    "scrolled": true
   },
   "outputs": [
    {
     "data": {
      "text/html": [
       "<table>\n",
       "<thead><tr><th scope=col>id</th><th scope=col>pred.price</th><th scope=col>pred.class</th><th scope=col>true.price</th><th scope=col>true.class</th></tr></thead>\n",
       "<tbody>\n",
       "\t<tr><td> 7322   </td><td>84.66428</td><td>1       </td><td>120     </td><td>1       </td></tr>\n",
       "\t<tr><td> 9782   </td><td>84.66428</td><td>1       </td><td> 55     </td><td>1       </td></tr>\n",
       "\t<tr><td> 9783   </td><td>51.96563</td><td>1       </td><td> 50     </td><td>1       </td></tr>\n",
       "\t<tr><td>11174   </td><td>91.51378</td><td>2       </td><td> 98     </td><td>2       </td></tr>\n",
       "\t<tr><td>11708   </td><td>91.51378</td><td>2       </td><td> 85     </td><td>2       </td></tr>\n",
       "\t<tr><td>12192   </td><td>84.66428</td><td>1       </td><td> 68     </td><td>1       </td></tr>\n",
       "</tbody>\n",
       "</table>\n"
      ],
      "text/latex": [
       "\\begin{tabular}{r|lllll}\n",
       " id & pred.price & pred.class & true.price & true.class\\\\\n",
       "\\hline\n",
       "\t  7322    & 84.66428 & 1        & 120      & 1       \\\\\n",
       "\t  9782    & 84.66428 & 1        &  55      & 1       \\\\\n",
       "\t  9783    & 51.96563 & 1        &  50      & 1       \\\\\n",
       "\t 11174    & 91.51378 & 2        &  98      & 2       \\\\\n",
       "\t 11708    & 91.51378 & 2        &  85      & 2       \\\\\n",
       "\t 12192    & 84.66428 & 1        &  68      & 1       \\\\\n",
       "\\end{tabular}\n"
      ],
      "text/markdown": [
       "\n",
       "id | pred.price | pred.class | true.price | true.class | \n",
       "|---|---|---|---|---|---|\n",
       "|  7322    | 84.66428 | 1        | 120      | 1        | \n",
       "|  9782    | 84.66428 | 1        |  55      | 1        | \n",
       "|  9783    | 51.96563 | 1        |  50      | 1        | \n",
       "| 11174    | 91.51378 | 2        |  98      | 2        | \n",
       "| 11708    | 91.51378 | 2        |  85      | 2        | \n",
       "| 12192    | 84.66428 | 1        |  68      | 1        | \n",
       "\n",
       "\n"
      ],
      "text/plain": [
       "  id    pred.price pred.class true.price true.class\n",
       "1  7322 84.66428   1          120        1         \n",
       "2  9782 84.66428   1           55        1         \n",
       "3  9783 51.96563   1           50        1         \n",
       "4 11174 91.51378   2           98        2         \n",
       "5 11708 91.51378   2           85        2         \n",
       "6 12192 84.66428   1           68        1         "
      ]
     },
     "metadata": {},
     "output_type": "display_data"
    }
   ],
   "source": [
    "# save model\n",
    "#saveRDS(cr.6, paste0(path, \"clustertree6-std.rds\"))\n",
    "# save prediction\n",
    "prediction.export <- data.frame(cbind(test.set$id, tree.pred$yhat, tree.class.test, test.set$price, cr.pred.2$cluster))\n",
    "colnames(prediction.export) <- c(\"id\", \"pred.price\", 'pred.class', 'true.price', 'true.class')\n",
    "write.csv(prediction.export, paste0(path, 'clustertree2_prediction-std-correct-73.csv'), row.names = FALSE)\n",
    "head(prediction.export)"
   ]
  },
  {
   "cell_type": "code",
   "execution_count": 142,
   "metadata": {
    "scrolled": true
   },
   "outputs": [
    {
     "data": {
      "text/html": [
       "0.820472346349923"
      ],
      "text/latex": [
       "0.820472346349923"
      ],
      "text/markdown": [
       "0.820472346349923"
      ],
      "text/plain": [
       "[1] 0.8204723"
      ]
     },
     "metadata": {},
     "output_type": "display_data"
    }
   ],
   "source": [
    "r2(prediction.export[prediction.export$pred.class == prediction.export$true.class,]$pred.price,\n",
    "prediction.export[prediction.export$pred.class == prediction.export$true.class,]$true.price)"
   ]
  },
  {
   "cell_type": "code",
   "execution_count": 143,
   "metadata": {},
   "outputs": [
    {
     "data": {
      "text/html": [
       "-0.620427359734793"
      ],
      "text/latex": [
       "-0.620427359734793"
      ],
      "text/markdown": [
       "-0.620427359734793"
      ],
      "text/plain": [
       "[1] -0.6204274"
      ]
     },
     "metadata": {},
     "output_type": "display_data"
    }
   ],
   "source": [
    "r2(prediction.export[prediction.export$pred.class != prediction.export$true.class,]$pred.price,\n",
    "prediction.export[prediction.export$pred.class != prediction.export$true.class,]$true.price)"
   ]
  },
  {
   "cell_type": "code",
   "execution_count": 78,
   "metadata": {},
   "outputs": [
    {
     "data": {
      "text/html": [
       "<table>\n",
       "<thead><tr><th scope=col>id</th><th scope=col>pred.price</th><th scope=col>pred.class</th><th scope=col>true.price</th><th scope=col>true.class</th></tr></thead>\n",
       "<tbody>\n",
       "\t<tr><td> 7322   </td><td>93.26558</td><td>1       </td><td>120     </td><td>1       </td></tr>\n",
       "\t<tr><td> 9782   </td><td>77.77585</td><td>1       </td><td> 55     </td><td>1       </td></tr>\n",
       "\t<tr><td> 9783   </td><td>52.48320</td><td>1       </td><td> 50     </td><td>1       </td></tr>\n",
       "\t<tr><td>11174   </td><td>90.85484</td><td>2       </td><td> 98     </td><td>2       </td></tr>\n",
       "\t<tr><td>11708   </td><td>90.85484</td><td>2       </td><td> 85     </td><td>2       </td></tr>\n",
       "\t<tr><td>12192   </td><td>77.77585</td><td>1       </td><td> 68     </td><td>1       </td></tr>\n",
       "</tbody>\n",
       "</table>\n"
      ],
      "text/latex": [
       "\\begin{tabular}{r|lllll}\n",
       " id & pred.price & pred.class & true.price & true.class\\\\\n",
       "\\hline\n",
       "\t  7322    & 93.26558 & 1        & 120      & 1       \\\\\n",
       "\t  9782    & 77.77585 & 1        &  55      & 1       \\\\\n",
       "\t  9783    & 52.48320 & 1        &  50      & 1       \\\\\n",
       "\t 11174    & 90.85484 & 2        &  98      & 2       \\\\\n",
       "\t 11708    & 90.85484 & 2        &  85      & 2       \\\\\n",
       "\t 12192    & 77.77585 & 1        &  68      & 1       \\\\\n",
       "\\end{tabular}\n"
      ],
      "text/markdown": [
       "\n",
       "id | pred.price | pred.class | true.price | true.class | \n",
       "|---|---|---|---|---|---|\n",
       "|  7322    | 93.26558 | 1        | 120      | 1        | \n",
       "|  9782    | 77.77585 | 1        |  55      | 1        | \n",
       "|  9783    | 52.48320 | 1        |  50      | 1        | \n",
       "| 11174    | 90.85484 | 2        |  98      | 2        | \n",
       "| 11708    | 90.85484 | 2        |  85      | 2        | \n",
       "| 12192    | 77.77585 | 1        |  68      | 1        | \n",
       "\n",
       "\n"
      ],
      "text/plain": [
       "  id    pred.price pred.class true.price true.class\n",
       "1  7322 93.26558   1          120        1         \n",
       "2  9782 77.77585   1           55        1         \n",
       "3  9783 52.48320   1           50        1         \n",
       "4 11174 90.85484   2           98        2         \n",
       "5 11708 90.85484   2           85        2         \n",
       "6 12192 77.77585   1           68        1         "
      ]
     },
     "metadata": {},
     "output_type": "display_data"
    }
   ],
   "source": [
    "head(prediction.export[prediction.export$pred.class == prediction.export$true.class,])"
   ]
  },
  {
   "cell_type": "code",
   "execution_count": 169,
   "metadata": {},
   "outputs": [],
   "source": [
    "cr.2 <- readRDS(paste0(path, \"clustertree2-std.rds\"))"
   ]
  },
  {
   "cell_type": "code",
   "execution_count": 213,
   "metadata": {},
   "outputs": [
    {
     "data": {
      "text/html": [
       "<ol class=list-inline>\n",
       "\t<li>'data'</li>\n",
       "\t<li>'nclust'</li>\n",
       "\t<li>'tries'</li>\n",
       "\t<li>'seed'</li>\n",
       "\t<li>'rsq.best'</li>\n",
       "\t<li>'number.loops'</li>\n",
       "\t<li>'Best.try'</li>\n",
       "\t<li>'cluster'</li>\n",
       "\t<li>'results'</li>\n",
       "</ol>\n"
      ],
      "text/latex": [
       "\\begin{enumerate*}\n",
       "\\item 'data'\n",
       "\\item 'nclust'\n",
       "\\item 'tries'\n",
       "\\item 'seed'\n",
       "\\item 'rsq.best'\n",
       "\\item 'number.loops'\n",
       "\\item 'Best.try'\n",
       "\\item 'cluster'\n",
       "\\item 'results'\n",
       "\\end{enumerate*}\n"
      ],
      "text/markdown": [
       "1. 'data'\n",
       "2. 'nclust'\n",
       "3. 'tries'\n",
       "4. 'seed'\n",
       "5. 'rsq.best'\n",
       "6. 'number.loops'\n",
       "7. 'Best.try'\n",
       "8. 'cluster'\n",
       "9. 'results'\n",
       "\n",
       "\n"
      ],
      "text/plain": [
       "[1] \"data\"         \"nclust\"       \"tries\"        \"seed\"         \"rsq.best\"    \n",
       "[6] \"number.loops\" \"Best.try\"     \"cluster\"      \"results\"     "
      ]
     },
     "metadata": {},
     "output_type": "display_data"
    }
   ],
   "source": [
    "names(load.super_model)"
   ]
  },
  {
   "cell_type": "markdown",
   "metadata": {},
   "source": [
    "cluster-wise tree\n",
    "\n",
    "k = 2 (use my own train test set)\n",
    "train: 0.873022703130307\n",
    "test: 0.797069961833224\n",
    "\n",
    "k = 2 (std set)\n",
    "0.851149622009816\n",
    "Test w/ leakage: 0.815273529686393 (upper bound)\n",
    "Test w/ predicted class: 0.692761364768711\n",
    "0.697982571148771\n",
    "0.706303806066577, 0.700664811011653\n",
    "\n",
    "k = 3 (my own train test)\n",
    "0.899083036709607\n",
    "0.87685304234223\n",
    "\n",
    "k = 3 (std set)\n",
    "0.912209226245157\n",
    "0.887782090553434\n",
    "\n",
    "k = 4 (std set)\n",
    "0.939315807436797\n",
    "0.917515052829946\n",
    "\n",
    "k = 5 (std set)\n",
    "0.953953715255558\n",
    "0.942856870914765\n",
    "\n",
    "k = 6 (std set)\n",
    "0.964839975403541\n",
    "0.954823778491578"
   ]
  },
  {
   "cell_type": "code",
   "execution_count": 258,
   "metadata": {},
   "outputs": [
    {
     "data": {
      "text/html": [
       "<dl class=dl-horizontal>\n",
       "\t<dt>room_type</dt>\n",
       "\t\t<dd>39396546.5979827</dd>\n",
       "\t<dt>calculated_host_listings_count_private_rooms</dt>\n",
       "\t\t<dd>34767302.4958612</dd>\n",
       "\t<dt>calculated_host_listings_count_entire_homes</dt>\n",
       "\t\t<dd>32724175.4207227</dd>\n",
       "\t<dt>accommodates</dt>\n",
       "\t\t<dd>31116790.0339791</dd>\n",
       "\t<dt>beds</dt>\n",
       "\t\t<dd>21491432.1094926</dd>\n",
       "\t<dt>bedrooms</dt>\n",
       "\t\t<dd>21147781.2314747</dd>\n",
       "\t<dt>zipcode</dt>\n",
       "\t\t<dd>14622668.336509</dd>\n",
       "\t<dt>host_neighbourhood</dt>\n",
       "\t\t<dd>12812998.4025221</dd>\n",
       "\t<dt>neighbourhood_cleansed</dt>\n",
       "\t\t<dd>12089642.44669</dd>\n",
       "\t<dt>neighbourhood</dt>\n",
       "\t\t<dd>8733650.4925102</dd>\n",
       "\t<dt>bathrooms</dt>\n",
       "\t\t<dd>6037003.61236617</dd>\n",
       "\t<dt>street</dt>\n",
       "\t\t<dd>4739212.29984952</dd>\n",
       "\t<dt>neighbourhood_group_cleansed</dt>\n",
       "\t\t<dd>4437697.58189767</dd>\n",
       "\t<dt>guests_included</dt>\n",
       "\t\t<dd>3655883.73098412</dd>\n",
       "\t<dt>property_type</dt>\n",
       "\t\t<dd>1785723.85858011</dd>\n",
       "\t<dt>host_location</dt>\n",
       "\t\t<dd>1295862.46576696</dd>\n",
       "\t<dt>listings_nearby</dt>\n",
       "\t\t<dd>930213.555657609</dd>\n",
       "\t<dt>city</dt>\n",
       "\t\t<dd>238650.594367349</dd>\n",
       "\t<dt>host_since_day</dt>\n",
       "\t\t<dd>215675.869643479</dd>\n",
       "\t<dt>calculated_host_listings_count</dt>\n",
       "\t\t<dd>88926.1351388175</dd>\n",
       "\t<dt>host_listings_count</dt>\n",
       "\t\t<dd>53608.9939742058</dd>\n",
       "\t<dt>host_total_listings_count</dt>\n",
       "\t\t<dd>53608.9939742058</dd>\n",
       "\t<dt>instant_bookable</dt>\n",
       "\t\t<dd>46883.344934536</dd>\n",
       "\t<dt>review_scores_rating</dt>\n",
       "\t\t<dd>24414.6045450277</dd>\n",
       "</dl>\n"
      ],
      "text/latex": [
       "\\begin{description*}\n",
       "\\item[room\\textbackslash{}\\_type] 39396546.5979827\n",
       "\\item[calculated\\textbackslash{}\\_host\\textbackslash{}\\_listings\\textbackslash{}\\_count\\textbackslash{}\\_private\\textbackslash{}\\_rooms] 34767302.4958612\n",
       "\\item[calculated\\textbackslash{}\\_host\\textbackslash{}\\_listings\\textbackslash{}\\_count\\textbackslash{}\\_entire\\textbackslash{}\\_homes] 32724175.4207227\n",
       "\\item[accommodates] 31116790.0339791\n",
       "\\item[beds] 21491432.1094926\n",
       "\\item[bedrooms] 21147781.2314747\n",
       "\\item[zipcode] 14622668.336509\n",
       "\\item[host\\textbackslash{}\\_neighbourhood] 12812998.4025221\n",
       "\\item[neighbourhood\\textbackslash{}\\_cleansed] 12089642.44669\n",
       "\\item[neighbourhood] 8733650.4925102\n",
       "\\item[bathrooms] 6037003.61236617\n",
       "\\item[street] 4739212.29984952\n",
       "\\item[neighbourhood\\textbackslash{}\\_group\\textbackslash{}\\_cleansed] 4437697.58189767\n",
       "\\item[guests\\textbackslash{}\\_included] 3655883.73098412\n",
       "\\item[property\\textbackslash{}\\_type] 1785723.85858011\n",
       "\\item[host\\textbackslash{}\\_location] 1295862.46576696\n",
       "\\item[listings\\textbackslash{}\\_nearby] 930213.555657609\n",
       "\\item[city] 238650.594367349\n",
       "\\item[host\\textbackslash{}\\_since\\textbackslash{}\\_day] 215675.869643479\n",
       "\\item[calculated\\textbackslash{}\\_host\\textbackslash{}\\_listings\\textbackslash{}\\_count] 88926.1351388175\n",
       "\\item[host\\textbackslash{}\\_listings\\textbackslash{}\\_count] 53608.9939742058\n",
       "\\item[host\\textbackslash{}\\_total\\textbackslash{}\\_listings\\textbackslash{}\\_count] 53608.9939742058\n",
       "\\item[instant\\textbackslash{}\\_bookable] 46883.344934536\n",
       "\\item[review\\textbackslash{}\\_scores\\textbackslash{}\\_rating] 24414.6045450277\n",
       "\\end{description*}\n"
      ],
      "text/markdown": [
       "room_type\n",
       ":   39396546.5979827calculated_host_listings_count_private_rooms\n",
       ":   34767302.4958612calculated_host_listings_count_entire_homes\n",
       ":   32724175.4207227accommodates\n",
       ":   31116790.0339791beds\n",
       ":   21491432.1094926bedrooms\n",
       ":   21147781.2314747zipcode\n",
       ":   14622668.336509host_neighbourhood\n",
       ":   12812998.4025221neighbourhood_cleansed\n",
       ":   12089642.44669neighbourhood\n",
       ":   8733650.4925102bathrooms\n",
       ":   6037003.61236617street\n",
       ":   4739212.29984952neighbourhood_group_cleansed\n",
       ":   4437697.58189767guests_included\n",
       ":   3655883.73098412property_type\n",
       ":   1785723.85858011host_location\n",
       ":   1295862.46576696listings_nearby\n",
       ":   930213.555657609city\n",
       ":   238650.594367349host_since_day\n",
       ":   215675.869643479calculated_host_listings_count\n",
       ":   88926.1351388175host_listings_count\n",
       ":   53608.9939742058host_total_listings_count\n",
       ":   53608.9939742058instant_bookable\n",
       ":   46883.344934536review_scores_rating\n",
       ":   24414.6045450277\n",
       "\n"
      ],
      "text/plain": [
       "                                   room_type \n",
       "                                 39396546.60 \n",
       "calculated_host_listings_count_private_rooms \n",
       "                                 34767302.50 \n",
       " calculated_host_listings_count_entire_homes \n",
       "                                 32724175.42 \n",
       "                                accommodates \n",
       "                                 31116790.03 \n",
       "                                        beds \n",
       "                                 21491432.11 \n",
       "                                    bedrooms \n",
       "                                 21147781.23 \n",
       "                                     zipcode \n",
       "                                 14622668.34 \n",
       "                          host_neighbourhood \n",
       "                                 12812998.40 \n",
       "                      neighbourhood_cleansed \n",
       "                                 12089642.45 \n",
       "                               neighbourhood \n",
       "                                  8733650.49 \n",
       "                                   bathrooms \n",
       "                                  6037003.61 \n",
       "                                      street \n",
       "                                  4739212.30 \n",
       "                neighbourhood_group_cleansed \n",
       "                                  4437697.58 \n",
       "                             guests_included \n",
       "                                  3655883.73 \n",
       "                               property_type \n",
       "                                  1785723.86 \n",
       "                               host_location \n",
       "                                  1295862.47 \n",
       "                             listings_nearby \n",
       "                                   930213.56 \n",
       "                                        city \n",
       "                                   238650.59 \n",
       "                              host_since_day \n",
       "                                   215675.87 \n",
       "              calculated_host_listings_count \n",
       "                                    88926.14 \n",
       "                         host_listings_count \n",
       "                                    53608.99 \n",
       "                   host_total_listings_count \n",
       "                                    53608.99 \n",
       "                            instant_bookable \n",
       "                                    46883.34 \n",
       "                        review_scores_rating \n",
       "                                    24414.60 "
      ]
     },
     "metadata": {},
     "output_type": "display_data"
    }
   ],
   "source": [
    "cr.2$results[[1]]$variable.importance"
   ]
  },
  {
   "cell_type": "code",
   "execution_count": 251,
   "metadata": {},
   "outputs": [
    {
     "data": {
      "text/html": [
       "<dl class=dl-horizontal>\n",
       "\t<dt>zipcode</dt>\n",
       "\t\t<dd>22654653.5369851</dd>\n",
       "\t<dt>neighbourhood_cleansed</dt>\n",
       "\t\t<dd>17841411.7577601</dd>\n",
       "\t<dt>bedrooms</dt>\n",
       "\t\t<dd>15126827.7760725</dd>\n",
       "\t<dt>host_neighbourhood</dt>\n",
       "\t\t<dd>15112671.6995411</dd>\n",
       "\t<dt>neighbourhood</dt>\n",
       "\t\t<dd>12287773.0762605</dd>\n",
       "\t<dt>accommodates</dt>\n",
       "\t\t<dd>9273866.7346076</dd>\n",
       "\t<dt>beds</dt>\n",
       "\t\t<dd>6671255.97208536</dd>\n",
       "\t<dt>listings_nearby</dt>\n",
       "\t\t<dd>5870358.26917306</dd>\n",
       "\t<dt>neighbourhood_group_cleansed</dt>\n",
       "\t\t<dd>5458072.10822398</dd>\n",
       "\t<dt>guests_included</dt>\n",
       "\t\t<dd>5262685.10236428</dd>\n",
       "\t<dt>bathrooms</dt>\n",
       "\t\t<dd>3722248.38230214</dd>\n",
       "\t<dt>host_location</dt>\n",
       "\t\t<dd>1287016.90381307</dd>\n",
       "\t<dt>room_type</dt>\n",
       "\t\t<dd>776587.542618176</dd>\n",
       "\t<dt>street</dt>\n",
       "\t\t<dd>760290.359776293</dd>\n",
       "\t<dt>calculated_host_listings_count_private_rooms</dt>\n",
       "\t\t<dd>680278.457608442</dd>\n",
       "\t<dt>calculated_host_listings_count_entire_homes</dt>\n",
       "\t\t<dd>573268.363153181</dd>\n",
       "\t<dt>city</dt>\n",
       "\t\t<dd>391027.57504971</dd>\n",
       "\t<dt>property_type</dt>\n",
       "\t\t<dd>36689.1752418037</dd>\n",
       "</dl>\n"
      ],
      "text/latex": [
       "\\begin{description*}\n",
       "\\item[zipcode] 22654653.5369851\n",
       "\\item[neighbourhood\\textbackslash{}\\_cleansed] 17841411.7577601\n",
       "\\item[bedrooms] 15126827.7760725\n",
       "\\item[host\\textbackslash{}\\_neighbourhood] 15112671.6995411\n",
       "\\item[neighbourhood] 12287773.0762605\n",
       "\\item[accommodates] 9273866.7346076\n",
       "\\item[beds] 6671255.97208536\n",
       "\\item[listings\\textbackslash{}\\_nearby] 5870358.26917306\n",
       "\\item[neighbourhood\\textbackslash{}\\_group\\textbackslash{}\\_cleansed] 5458072.10822398\n",
       "\\item[guests\\textbackslash{}\\_included] 5262685.10236428\n",
       "\\item[bathrooms] 3722248.38230214\n",
       "\\item[host\\textbackslash{}\\_location] 1287016.90381307\n",
       "\\item[room\\textbackslash{}\\_type] 776587.542618176\n",
       "\\item[street] 760290.359776293\n",
       "\\item[calculated\\textbackslash{}\\_host\\textbackslash{}\\_listings\\textbackslash{}\\_count\\textbackslash{}\\_private\\textbackslash{}\\_rooms] 680278.457608442\n",
       "\\item[calculated\\textbackslash{}\\_host\\textbackslash{}\\_listings\\textbackslash{}\\_count\\textbackslash{}\\_entire\\textbackslash{}\\_homes] 573268.363153181\n",
       "\\item[city] 391027.57504971\n",
       "\\item[property\\textbackslash{}\\_type] 36689.1752418037\n",
       "\\end{description*}\n"
      ],
      "text/markdown": [
       "zipcode\n",
       ":   22654653.5369851neighbourhood_cleansed\n",
       ":   17841411.7577601bedrooms\n",
       ":   15126827.7760725host_neighbourhood\n",
       ":   15112671.6995411neighbourhood\n",
       ":   12287773.0762605accommodates\n",
       ":   9273866.7346076beds\n",
       ":   6671255.97208536listings_nearby\n",
       ":   5870358.26917306neighbourhood_group_cleansed\n",
       ":   5458072.10822398guests_included\n",
       ":   5262685.10236428bathrooms\n",
       ":   3722248.38230214host_location\n",
       ":   1287016.90381307room_type\n",
       ":   776587.542618176street\n",
       ":   760290.359776293calculated_host_listings_count_private_rooms\n",
       ":   680278.457608442calculated_host_listings_count_entire_homes\n",
       ":   573268.363153181city\n",
       ":   391027.57504971property_type\n",
       ":   36689.1752418037\n",
       "\n"
      ],
      "text/plain": [
       "                                     zipcode \n",
       "                                 22654653.54 \n",
       "                      neighbourhood_cleansed \n",
       "                                 17841411.76 \n",
       "                                    bedrooms \n",
       "                                 15126827.78 \n",
       "                          host_neighbourhood \n",
       "                                 15112671.70 \n",
       "                               neighbourhood \n",
       "                                 12287773.08 \n",
       "                                accommodates \n",
       "                                  9273866.73 \n",
       "                                        beds \n",
       "                                  6671255.97 \n",
       "                             listings_nearby \n",
       "                                  5870358.27 \n",
       "                neighbourhood_group_cleansed \n",
       "                                  5458072.11 \n",
       "                             guests_included \n",
       "                                  5262685.10 \n",
       "                                   bathrooms \n",
       "                                  3722248.38 \n",
       "                               host_location \n",
       "                                  1287016.90 \n",
       "                                   room_type \n",
       "                                   776587.54 \n",
       "                                      street \n",
       "                                   760290.36 \n",
       "calculated_host_listings_count_private_rooms \n",
       "                                   680278.46 \n",
       " calculated_host_listings_count_entire_homes \n",
       "                                   573268.36 \n",
       "                                        city \n",
       "                                   391027.58 \n",
       "                               property_type \n",
       "                                    36689.18 "
      ]
     },
     "metadata": {},
     "output_type": "display_data"
    }
   ],
   "source": [
    "cr.2$results[[2]]$variable.importance"
   ]
  },
  {
   "cell_type": "markdown",
   "metadata": {},
   "source": [
    "Future improvements\n",
    "\n",
    "1) weighted sum of model. use weighted sum + assigned class depending on the probability\n",
    "2) improve the classification model\n",
    "3) increase the number of clusters\n",
    "\n",
    "Questions\n",
    "1) the definition of overfitting...sometimes a higher cp value punishes both the train and the test set\n"
   ]
  },
  {
   "cell_type": "code",
   "execution_count": null,
   "metadata": {},
   "outputs": [],
   "source": []
  }
 ],
 "metadata": {
  "kernelspec": {
   "display_name": "R",
   "language": "R",
   "name": "ir"
  },
  "language_info": {
   "codemirror_mode": "r",
   "file_extension": ".r",
   "mimetype": "text/x-r-source",
   "name": "R",
   "pygments_lexer": "r",
   "version": "3.4.2"
  }
 },
 "nbformat": 4,
 "nbformat_minor": 4
}
